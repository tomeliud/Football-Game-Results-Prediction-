{
  "nbformat": 4,
  "nbformat_minor": 0,
  "metadata": {
    "colab": {
      "name": "Football_Match_Result_Prediction",
      "provenance": [],
      "collapsed_sections": [
        "J4wfHZwQrs-t",
        "a9BPYqunry97",
        "7KMRBJ7zr9HD",
        "zSGyg6kWsBUl",
        "ckfufNrcUHeH",
        "6XC_g-zKxe-r",
        "FlBMxEDBUc9B",
        "xrmHVMVsVS--",
        "HPQviDmNtta8",
        "qjFHK1CKty7o",
        "HSsicSdvt4Zs"
      ],
      "include_colab_link": true
    },
    "kernelspec": {
      "name": "python3",
      "display_name": "Python 3"
    }
  },
  "cells": [
    {
      "cell_type": "markdown",
      "metadata": {
        "id": "view-in-github",
        "colab_type": "text"
      },
      "source": [
        "<a href=\"https://colab.research.google.com/github/tomeliud/Football-Game-Results-Prediction-/blob/master/Football_Match_Result_Prediction.ipynb\" target=\"_parent\"><img src=\"https://colab.research.google.com/assets/colab-badge.svg\" alt=\"Open In Colab\"/></a>"
      ]
    },
    {
      "cell_type": "markdown",
      "metadata": {
        "id": "xMxtPsqcTsSH",
        "colab_type": "text"
      },
      "source": [
        "# Football Game Prediction Results"
      ]
    },
    {
      "cell_type": "markdown",
      "metadata": {
        "id": "kLG2VTrnTvYL",
        "colab_type": "text"
      },
      "source": [
        "## 1. Defining the Question"
      ]
    },
    {
      "cell_type": "markdown",
      "metadata": {
        "id": "XecOwPNorl2W",
        "colab_type": "text"
      },
      "source": [
        "### a) Specifying the Question"
      ]
    },
    {
      "cell_type": "markdown",
      "metadata": {
        "id": "8l3-hBO6bODP",
        "colab_type": "text"
      },
      "source": [
        "\n",
        "\n",
        "\n",
        "1. Predict the Home Team Score and the Away Team Score given the Rank of Home Team and the Away Team and the Type of Tournament\n",
        "\n",
        "2. From the Home Team’s perspective predict if the game is a Win, Lose or Draw\n",
        "\n",
        "\n",
        "\n"
      ]
    },
    {
      "cell_type": "markdown",
      "metadata": {
        "id": "J4wfHZwQrs-t",
        "colab_type": "text"
      },
      "source": [
        "### b) Defining the Metric for Success"
      ]
    },
    {
      "cell_type": "markdown",
      "metadata": {
        "id": "PFBM0Frh7l6-",
        "colab_type": "text"
      },
      "source": [
        "> The Metric of Success is to Identify the Independent Variables for our Models"
      ]
    },
    {
      "cell_type": "markdown",
      "metadata": {
        "id": "iUNbvIvnT7ep",
        "colab_type": "text"
      },
      "source": [
        "## 2. Reading the Data"
      ]
    },
    {
      "cell_type": "code",
      "metadata": {
        "id": "XJn2KjW-WMlG",
        "colab_type": "code",
        "colab": {}
      },
      "source": [
        "# Loading the Dataset\n",
        "import pandas as pd\n",
        "import numpy as np\n",
        "import seaborn as sns\n",
        "import matplotlib.pyplot as plt\n"
      ],
      "execution_count": null,
      "outputs": []
    },
    {
      "cell_type": "code",
      "metadata": {
        "id": "6fwObDzo41Hq",
        "colab_type": "code",
        "colab": {}
      },
      "source": [
        "rank = pd.read_csv('fifa_ranking.csv')\n",
        "\n",
        "results = pd.read_csv('results.csv')"
      ],
      "execution_count": null,
      "outputs": []
    },
    {
      "cell_type": "markdown",
      "metadata": {
        "id": "OI3P3YnHUEBk",
        "colab_type": "text"
      },
      "source": [
        "## 3. Checking the Data"
      ]
    },
    {
      "cell_type": "markdown",
      "metadata": {
        "id": "NIM_DZZU6B8M",
        "colab_type": "text"
      },
      "source": [
        "Checking Data in the Results Dataset"
      ]
    },
    {
      "cell_type": "code",
      "metadata": {
        "id": "QynBNTq2_8aa",
        "colab_type": "code",
        "colab": {
          "base_uri": "https://localhost:8080/",
          "height": 224
        },
        "outputId": "7e779e8c-9b75-4688-e778-d2806f3cf8d6"
      },
      "source": [
        "rank.head()"
      ],
      "execution_count": null,
      "outputs": [
        {
          "output_type": "execute_result",
          "data": {
            "text/html": [
              "<div>\n",
              "<style scoped>\n",
              "    .dataframe tbody tr th:only-of-type {\n",
              "        vertical-align: middle;\n",
              "    }\n",
              "\n",
              "    .dataframe tbody tr th {\n",
              "        vertical-align: top;\n",
              "    }\n",
              "\n",
              "    .dataframe thead th {\n",
              "        text-align: right;\n",
              "    }\n",
              "</style>\n",
              "<table border=\"1\" class=\"dataframe\">\n",
              "  <thead>\n",
              "    <tr style=\"text-align: right;\">\n",
              "      <th></th>\n",
              "      <th>rank</th>\n",
              "      <th>country_full</th>\n",
              "      <th>country_abrv</th>\n",
              "      <th>total_points</th>\n",
              "      <th>previous_points</th>\n",
              "      <th>rank_change</th>\n",
              "      <th>cur_year_avg</th>\n",
              "      <th>cur_year_avg_weighted</th>\n",
              "      <th>last_year_avg</th>\n",
              "      <th>last_year_avg_weighted</th>\n",
              "      <th>two_year_ago_avg</th>\n",
              "      <th>two_year_ago_weighted</th>\n",
              "      <th>three_year_ago_avg</th>\n",
              "      <th>three_year_ago_weighted</th>\n",
              "      <th>confederation</th>\n",
              "      <th>rank_date</th>\n",
              "    </tr>\n",
              "  </thead>\n",
              "  <tbody>\n",
              "    <tr>\n",
              "      <th>0</th>\n",
              "      <td>1</td>\n",
              "      <td>Germany</td>\n",
              "      <td>GER</td>\n",
              "      <td>0.0</td>\n",
              "      <td>57</td>\n",
              "      <td>0</td>\n",
              "      <td>0.0</td>\n",
              "      <td>0.0</td>\n",
              "      <td>0.0</td>\n",
              "      <td>0.0</td>\n",
              "      <td>0.0</td>\n",
              "      <td>0.0</td>\n",
              "      <td>0.0</td>\n",
              "      <td>0.0</td>\n",
              "      <td>UEFA</td>\n",
              "      <td>1993-08-08</td>\n",
              "    </tr>\n",
              "    <tr>\n",
              "      <th>1</th>\n",
              "      <td>2</td>\n",
              "      <td>Italy</td>\n",
              "      <td>ITA</td>\n",
              "      <td>0.0</td>\n",
              "      <td>57</td>\n",
              "      <td>0</td>\n",
              "      <td>0.0</td>\n",
              "      <td>0.0</td>\n",
              "      <td>0.0</td>\n",
              "      <td>0.0</td>\n",
              "      <td>0.0</td>\n",
              "      <td>0.0</td>\n",
              "      <td>0.0</td>\n",
              "      <td>0.0</td>\n",
              "      <td>UEFA</td>\n",
              "      <td>1993-08-08</td>\n",
              "    </tr>\n",
              "    <tr>\n",
              "      <th>2</th>\n",
              "      <td>3</td>\n",
              "      <td>Switzerland</td>\n",
              "      <td>SUI</td>\n",
              "      <td>0.0</td>\n",
              "      <td>50</td>\n",
              "      <td>9</td>\n",
              "      <td>0.0</td>\n",
              "      <td>0.0</td>\n",
              "      <td>0.0</td>\n",
              "      <td>0.0</td>\n",
              "      <td>0.0</td>\n",
              "      <td>0.0</td>\n",
              "      <td>0.0</td>\n",
              "      <td>0.0</td>\n",
              "      <td>UEFA</td>\n",
              "      <td>1993-08-08</td>\n",
              "    </tr>\n",
              "    <tr>\n",
              "      <th>3</th>\n",
              "      <td>4</td>\n",
              "      <td>Sweden</td>\n",
              "      <td>SWE</td>\n",
              "      <td>0.0</td>\n",
              "      <td>55</td>\n",
              "      <td>0</td>\n",
              "      <td>0.0</td>\n",
              "      <td>0.0</td>\n",
              "      <td>0.0</td>\n",
              "      <td>0.0</td>\n",
              "      <td>0.0</td>\n",
              "      <td>0.0</td>\n",
              "      <td>0.0</td>\n",
              "      <td>0.0</td>\n",
              "      <td>UEFA</td>\n",
              "      <td>1993-08-08</td>\n",
              "    </tr>\n",
              "    <tr>\n",
              "      <th>4</th>\n",
              "      <td>5</td>\n",
              "      <td>Argentina</td>\n",
              "      <td>ARG</td>\n",
              "      <td>0.0</td>\n",
              "      <td>51</td>\n",
              "      <td>5</td>\n",
              "      <td>0.0</td>\n",
              "      <td>0.0</td>\n",
              "      <td>0.0</td>\n",
              "      <td>0.0</td>\n",
              "      <td>0.0</td>\n",
              "      <td>0.0</td>\n",
              "      <td>0.0</td>\n",
              "      <td>0.0</td>\n",
              "      <td>CONMEBOL</td>\n",
              "      <td>1993-08-08</td>\n",
              "    </tr>\n",
              "  </tbody>\n",
              "</table>\n",
              "</div>"
            ],
            "text/plain": [
              "   rank country_full  ... confederation   rank_date\n",
              "0     1      Germany  ...          UEFA  1993-08-08\n",
              "1     2        Italy  ...          UEFA  1993-08-08\n",
              "2     3  Switzerland  ...          UEFA  1993-08-08\n",
              "3     4       Sweden  ...          UEFA  1993-08-08\n",
              "4     5    Argentina  ...      CONMEBOL  1993-08-08\n",
              "\n",
              "[5 rows x 16 columns]"
            ]
          },
          "metadata": {
            "tags": []
          },
          "execution_count": 271
        }
      ]
    },
    {
      "cell_type": "code",
      "metadata": {
        "id": "v8JuMstK_6Vr",
        "colab_type": "code",
        "colab": {
          "base_uri": "https://localhost:8080/",
          "height": 34
        },
        "outputId": "5ccdf755-0641-4707-b7be-d75dddfd760c"
      },
      "source": [
        "rank.shape"
      ],
      "execution_count": null,
      "outputs": [
        {
          "output_type": "execute_result",
          "data": {
            "text/plain": [
              "(57793, 16)"
            ]
          },
          "metadata": {
            "tags": []
          },
          "execution_count": 272
        }
      ]
    },
    {
      "cell_type": "code",
      "metadata": {
        "id": "QUG1k6cM_4d1",
        "colab_type": "code",
        "colab": {
          "base_uri": "https://localhost:8080/",
          "height": 408
        },
        "outputId": "dcf09109-acee-449c-a55c-cb28315309c3"
      },
      "source": [
        "rank.info()"
      ],
      "execution_count": null,
      "outputs": [
        {
          "output_type": "stream",
          "text": [
            "<class 'pandas.core.frame.DataFrame'>\n",
            "RangeIndex: 57793 entries, 0 to 57792\n",
            "Data columns (total 16 columns):\n",
            " #   Column                   Non-Null Count  Dtype  \n",
            "---  ------                   --------------  -----  \n",
            " 0   rank                     57793 non-null  int64  \n",
            " 1   country_full             57793 non-null  object \n",
            " 2   country_abrv             57793 non-null  object \n",
            " 3   total_points             57793 non-null  float64\n",
            " 4   previous_points          57793 non-null  int64  \n",
            " 5   rank_change              57793 non-null  int64  \n",
            " 6   cur_year_avg             57793 non-null  float64\n",
            " 7   cur_year_avg_weighted    57793 non-null  float64\n",
            " 8   last_year_avg            57793 non-null  float64\n",
            " 9   last_year_avg_weighted   57793 non-null  float64\n",
            " 10  two_year_ago_avg         57793 non-null  float64\n",
            " 11  two_year_ago_weighted    57793 non-null  float64\n",
            " 12  three_year_ago_avg       57793 non-null  float64\n",
            " 13  three_year_ago_weighted  57793 non-null  float64\n",
            " 14  confederation            57793 non-null  object \n",
            " 15  rank_date                57793 non-null  object \n",
            "dtypes: float64(9), int64(3), object(4)\n",
            "memory usage: 7.1+ MB\n"
          ],
          "name": "stdout"
        }
      ]
    },
    {
      "cell_type": "markdown",
      "metadata": {
        "id": "-T0IwAmV53-2",
        "colab_type": "text"
      },
      "source": [
        "Checking Data in the Fifa Ranking Dataset"
      ]
    },
    {
      "cell_type": "code",
      "metadata": {
        "id": "J0wk6obz5Rq1",
        "colab_type": "code",
        "colab": {
          "base_uri": "https://localhost:8080/",
          "height": 204
        },
        "outputId": "2b268358-10c8-47a7-c9cb-5ee9a7de807b"
      },
      "source": [
        "results.head()"
      ],
      "execution_count": null,
      "outputs": [
        {
          "output_type": "execute_result",
          "data": {
            "text/html": [
              "<div>\n",
              "<style scoped>\n",
              "    .dataframe tbody tr th:only-of-type {\n",
              "        vertical-align: middle;\n",
              "    }\n",
              "\n",
              "    .dataframe tbody tr th {\n",
              "        vertical-align: top;\n",
              "    }\n",
              "\n",
              "    .dataframe thead th {\n",
              "        text-align: right;\n",
              "    }\n",
              "</style>\n",
              "<table border=\"1\" class=\"dataframe\">\n",
              "  <thead>\n",
              "    <tr style=\"text-align: right;\">\n",
              "      <th></th>\n",
              "      <th>date</th>\n",
              "      <th>home_team</th>\n",
              "      <th>away_team</th>\n",
              "      <th>home_score</th>\n",
              "      <th>away_score</th>\n",
              "      <th>tournament</th>\n",
              "      <th>city</th>\n",
              "      <th>country</th>\n",
              "      <th>neutral</th>\n",
              "    </tr>\n",
              "  </thead>\n",
              "  <tbody>\n",
              "    <tr>\n",
              "      <th>0</th>\n",
              "      <td>1872-11-30</td>\n",
              "      <td>Scotland</td>\n",
              "      <td>England</td>\n",
              "      <td>0</td>\n",
              "      <td>0</td>\n",
              "      <td>Friendly</td>\n",
              "      <td>Glasgow</td>\n",
              "      <td>Scotland</td>\n",
              "      <td>False</td>\n",
              "    </tr>\n",
              "    <tr>\n",
              "      <th>1</th>\n",
              "      <td>1873-03-08</td>\n",
              "      <td>England</td>\n",
              "      <td>Scotland</td>\n",
              "      <td>4</td>\n",
              "      <td>2</td>\n",
              "      <td>Friendly</td>\n",
              "      <td>London</td>\n",
              "      <td>England</td>\n",
              "      <td>False</td>\n",
              "    </tr>\n",
              "    <tr>\n",
              "      <th>2</th>\n",
              "      <td>1874-03-07</td>\n",
              "      <td>Scotland</td>\n",
              "      <td>England</td>\n",
              "      <td>2</td>\n",
              "      <td>1</td>\n",
              "      <td>Friendly</td>\n",
              "      <td>Glasgow</td>\n",
              "      <td>Scotland</td>\n",
              "      <td>False</td>\n",
              "    </tr>\n",
              "    <tr>\n",
              "      <th>3</th>\n",
              "      <td>1875-03-06</td>\n",
              "      <td>England</td>\n",
              "      <td>Scotland</td>\n",
              "      <td>2</td>\n",
              "      <td>2</td>\n",
              "      <td>Friendly</td>\n",
              "      <td>London</td>\n",
              "      <td>England</td>\n",
              "      <td>False</td>\n",
              "    </tr>\n",
              "    <tr>\n",
              "      <th>4</th>\n",
              "      <td>1876-03-04</td>\n",
              "      <td>Scotland</td>\n",
              "      <td>England</td>\n",
              "      <td>3</td>\n",
              "      <td>0</td>\n",
              "      <td>Friendly</td>\n",
              "      <td>Glasgow</td>\n",
              "      <td>Scotland</td>\n",
              "      <td>False</td>\n",
              "    </tr>\n",
              "  </tbody>\n",
              "</table>\n",
              "</div>"
            ],
            "text/plain": [
              "         date home_team away_team  ...     city   country neutral\n",
              "0  1872-11-30  Scotland   England  ...  Glasgow  Scotland   False\n",
              "1  1873-03-08   England  Scotland  ...   London   England   False\n",
              "2  1874-03-07  Scotland   England  ...  Glasgow  Scotland   False\n",
              "3  1875-03-06   England  Scotland  ...   London   England   False\n",
              "4  1876-03-04  Scotland   England  ...  Glasgow  Scotland   False\n",
              "\n",
              "[5 rows x 9 columns]"
            ]
          },
          "metadata": {
            "tags": []
          },
          "execution_count": 274
        }
      ]
    },
    {
      "cell_type": "code",
      "metadata": {
        "id": "F8xzSZY85gz4",
        "colab_type": "code",
        "colab": {
          "base_uri": "https://localhost:8080/",
          "height": 34
        },
        "outputId": "115ea99c-203e-4748-eab8-5841961a1364"
      },
      "source": [
        "results.shape"
      ],
      "execution_count": null,
      "outputs": [
        {
          "output_type": "execute_result",
          "data": {
            "text/plain": [
              "(40839, 9)"
            ]
          },
          "metadata": {
            "tags": []
          },
          "execution_count": 275
        }
      ]
    },
    {
      "cell_type": "code",
      "metadata": {
        "id": "IwgwE0845yBA",
        "colab_type": "code",
        "colab": {
          "base_uri": "https://localhost:8080/",
          "height": 289
        },
        "outputId": "634222fe-c06c-4e6f-b968-9e2a427c95e2"
      },
      "source": [
        "results.info()"
      ],
      "execution_count": null,
      "outputs": [
        {
          "output_type": "stream",
          "text": [
            "<class 'pandas.core.frame.DataFrame'>\n",
            "RangeIndex: 40839 entries, 0 to 40838\n",
            "Data columns (total 9 columns):\n",
            " #   Column      Non-Null Count  Dtype \n",
            "---  ------      --------------  ----- \n",
            " 0   date        40839 non-null  object\n",
            " 1   home_team   40839 non-null  object\n",
            " 2   away_team   40839 non-null  object\n",
            " 3   home_score  40839 non-null  int64 \n",
            " 4   away_score  40839 non-null  int64 \n",
            " 5   tournament  40839 non-null  object\n",
            " 6   city        40839 non-null  object\n",
            " 7   country     40839 non-null  object\n",
            " 8   neutral     40839 non-null  bool  \n",
            "dtypes: bool(1), int64(2), object(6)\n",
            "memory usage: 2.5+ MB\n"
          ],
          "name": "stdout"
        }
      ]
    },
    {
      "cell_type": "code",
      "metadata": {
        "id": "YjSVNwgptHxY",
        "colab_type": "code",
        "colab": {
          "base_uri": "https://localhost:8080/",
          "height": 343
        },
        "outputId": "f24ced58-95e8-4fc0-83d4-279cc0d9605c"
      },
      "source": [
        "football = rank.merge(results, left_on=['rank_date','country_full'], right_on=['date','country'], how= 'inner')\n",
        "football.head()"
      ],
      "execution_count": null,
      "outputs": [
        {
          "output_type": "execute_result",
          "data": {
            "text/html": [
              "<div>\n",
              "<style scoped>\n",
              "    .dataframe tbody tr th:only-of-type {\n",
              "        vertical-align: middle;\n",
              "    }\n",
              "\n",
              "    .dataframe tbody tr th {\n",
              "        vertical-align: top;\n",
              "    }\n",
              "\n",
              "    .dataframe thead th {\n",
              "        text-align: right;\n",
              "    }\n",
              "</style>\n",
              "<table border=\"1\" class=\"dataframe\">\n",
              "  <thead>\n",
              "    <tr style=\"text-align: right;\">\n",
              "      <th></th>\n",
              "      <th>rank</th>\n",
              "      <th>country_full</th>\n",
              "      <th>country_abrv</th>\n",
              "      <th>total_points</th>\n",
              "      <th>previous_points</th>\n",
              "      <th>rank_change</th>\n",
              "      <th>cur_year_avg</th>\n",
              "      <th>cur_year_avg_weighted</th>\n",
              "      <th>last_year_avg</th>\n",
              "      <th>last_year_avg_weighted</th>\n",
              "      <th>two_year_ago_avg</th>\n",
              "      <th>two_year_ago_weighted</th>\n",
              "      <th>three_year_ago_avg</th>\n",
              "      <th>three_year_ago_weighted</th>\n",
              "      <th>confederation</th>\n",
              "      <th>rank_date</th>\n",
              "      <th>date</th>\n",
              "      <th>home_team</th>\n",
              "      <th>away_team</th>\n",
              "      <th>home_score</th>\n",
              "      <th>away_score</th>\n",
              "      <th>tournament</th>\n",
              "      <th>city</th>\n",
              "      <th>country</th>\n",
              "      <th>neutral</th>\n",
              "    </tr>\n",
              "  </thead>\n",
              "  <tbody>\n",
              "    <tr>\n",
              "      <th>0</th>\n",
              "      <td>8</td>\n",
              "      <td>Brazil</td>\n",
              "      <td>BRA</td>\n",
              "      <td>0.0</td>\n",
              "      <td>55</td>\n",
              "      <td>-5</td>\n",
              "      <td>0.0</td>\n",
              "      <td>0.0</td>\n",
              "      <td>0.0</td>\n",
              "      <td>0.0</td>\n",
              "      <td>0.0</td>\n",
              "      <td>0.0</td>\n",
              "      <td>0.0</td>\n",
              "      <td>0.0</td>\n",
              "      <td>CONMEBOL</td>\n",
              "      <td>1993-08-08</td>\n",
              "      <td>1993-08-08</td>\n",
              "      <td>Brazil</td>\n",
              "      <td>Mexico</td>\n",
              "      <td>1</td>\n",
              "      <td>1</td>\n",
              "      <td>Friendly</td>\n",
              "      <td>Maceió</td>\n",
              "      <td>Brazil</td>\n",
              "      <td>False</td>\n",
              "    </tr>\n",
              "    <tr>\n",
              "      <th>1</th>\n",
              "      <td>35</td>\n",
              "      <td>Ecuador</td>\n",
              "      <td>ECU</td>\n",
              "      <td>0.0</td>\n",
              "      <td>23</td>\n",
              "      <td>30</td>\n",
              "      <td>0.0</td>\n",
              "      <td>0.0</td>\n",
              "      <td>0.0</td>\n",
              "      <td>0.0</td>\n",
              "      <td>0.0</td>\n",
              "      <td>0.0</td>\n",
              "      <td>0.0</td>\n",
              "      <td>0.0</td>\n",
              "      <td>CONMEBOL</td>\n",
              "      <td>1993-08-08</td>\n",
              "      <td>1993-08-08</td>\n",
              "      <td>Ecuador</td>\n",
              "      <td>Venezuela</td>\n",
              "      <td>5</td>\n",
              "      <td>0</td>\n",
              "      <td>FIFA World Cup qualification</td>\n",
              "      <td>Quito</td>\n",
              "      <td>Ecuador</td>\n",
              "      <td>False</td>\n",
              "    </tr>\n",
              "    <tr>\n",
              "      <th>2</th>\n",
              "      <td>50</td>\n",
              "      <td>Zimbabwe</td>\n",
              "      <td>ZIM</td>\n",
              "      <td>0.0</td>\n",
              "      <td>27</td>\n",
              "      <td>4</td>\n",
              "      <td>0.0</td>\n",
              "      <td>0.0</td>\n",
              "      <td>0.0</td>\n",
              "      <td>0.0</td>\n",
              "      <td>0.0</td>\n",
              "      <td>0.0</td>\n",
              "      <td>0.0</td>\n",
              "      <td>0.0</td>\n",
              "      <td>CAF</td>\n",
              "      <td>1993-08-08</td>\n",
              "      <td>1993-08-08</td>\n",
              "      <td>Zimbabwe</td>\n",
              "      <td>Eswatini</td>\n",
              "      <td>2</td>\n",
              "      <td>0</td>\n",
              "      <td>Friendly</td>\n",
              "      <td>Harare</td>\n",
              "      <td>Zimbabwe</td>\n",
              "      <td>False</td>\n",
              "    </tr>\n",
              "    <tr>\n",
              "      <th>3</th>\n",
              "      <td>59</td>\n",
              "      <td>Bolivia</td>\n",
              "      <td>BOL</td>\n",
              "      <td>0.0</td>\n",
              "      <td>13</td>\n",
              "      <td>28</td>\n",
              "      <td>0.0</td>\n",
              "      <td>0.0</td>\n",
              "      <td>0.0</td>\n",
              "      <td>0.0</td>\n",
              "      <td>0.0</td>\n",
              "      <td>0.0</td>\n",
              "      <td>0.0</td>\n",
              "      <td>0.0</td>\n",
              "      <td>CONMEBOL</td>\n",
              "      <td>1993-08-08</td>\n",
              "      <td>1993-08-08</td>\n",
              "      <td>Bolivia</td>\n",
              "      <td>Uruguay</td>\n",
              "      <td>3</td>\n",
              "      <td>1</td>\n",
              "      <td>FIFA World Cup qualification</td>\n",
              "      <td>La Paz</td>\n",
              "      <td>Bolivia</td>\n",
              "      <td>False</td>\n",
              "    </tr>\n",
              "    <tr>\n",
              "      <th>4</th>\n",
              "      <td>65</td>\n",
              "      <td>Guinea</td>\n",
              "      <td>GUI</td>\n",
              "      <td>0.0</td>\n",
              "      <td>23</td>\n",
              "      <td>-2</td>\n",
              "      <td>0.0</td>\n",
              "      <td>0.0</td>\n",
              "      <td>0.0</td>\n",
              "      <td>0.0</td>\n",
              "      <td>0.0</td>\n",
              "      <td>0.0</td>\n",
              "      <td>0.0</td>\n",
              "      <td>0.0</td>\n",
              "      <td>CAF</td>\n",
              "      <td>1993-08-08</td>\n",
              "      <td>1993-08-08</td>\n",
              "      <td>Guinea</td>\n",
              "      <td>Sierra Leone</td>\n",
              "      <td>1</td>\n",
              "      <td>0</td>\n",
              "      <td>Friendly</td>\n",
              "      <td>Conakry</td>\n",
              "      <td>Guinea</td>\n",
              "      <td>False</td>\n",
              "    </tr>\n",
              "  </tbody>\n",
              "</table>\n",
              "</div>"
            ],
            "text/plain": [
              "   rank country_full country_abrv  ...     city   country  neutral\n",
              "0     8       Brazil          BRA  ...   Maceió    Brazil    False\n",
              "1    35      Ecuador          ECU  ...    Quito   Ecuador    False\n",
              "2    50     Zimbabwe          ZIM  ...   Harare  Zimbabwe    False\n",
              "3    59      Bolivia          BOL  ...   La Paz   Bolivia    False\n",
              "4    65       Guinea          GUI  ...  Conakry    Guinea    False\n",
              "\n",
              "[5 rows x 25 columns]"
            ]
          },
          "metadata": {
            "tags": []
          },
          "execution_count": 277
        }
      ]
    },
    {
      "cell_type": "code",
      "metadata": {
        "id": "rEgURvQDB5Ey",
        "colab_type": "code",
        "colab": {
          "base_uri": "https://localhost:8080/",
          "height": 34
        },
        "outputId": "6fd423d0-3944-43a3-f0fd-bc02a7aecd54"
      },
      "source": [
        "football.shape"
      ],
      "execution_count": null,
      "outputs": [
        {
          "output_type": "execute_result",
          "data": {
            "text/plain": [
              "(950, 25)"
            ]
          },
          "metadata": {
            "tags": []
          },
          "execution_count": 278
        }
      ]
    },
    {
      "cell_type": "code",
      "metadata": {
        "id": "xHhTw5eKWr0n",
        "colab_type": "code",
        "colab": {
          "base_uri": "https://localhost:8080/",
          "height": 561
        },
        "outputId": "770676b2-5171-4834-fec2-ed052b43074e"
      },
      "source": [
        "football.info()"
      ],
      "execution_count": null,
      "outputs": [
        {
          "output_type": "stream",
          "text": [
            "<class 'pandas.core.frame.DataFrame'>\n",
            "Int64Index: 950 entries, 0 to 949\n",
            "Data columns (total 25 columns):\n",
            " #   Column                   Non-Null Count  Dtype  \n",
            "---  ------                   --------------  -----  \n",
            " 0   rank                     950 non-null    int64  \n",
            " 1   country_full             950 non-null    object \n",
            " 2   country_abrv             950 non-null    object \n",
            " 3   total_points             950 non-null    float64\n",
            " 4   previous_points          950 non-null    int64  \n",
            " 5   rank_change              950 non-null    int64  \n",
            " 6   cur_year_avg             950 non-null    float64\n",
            " 7   cur_year_avg_weighted    950 non-null    float64\n",
            " 8   last_year_avg            950 non-null    float64\n",
            " 9   last_year_avg_weighted   950 non-null    float64\n",
            " 10  two_year_ago_avg         950 non-null    float64\n",
            " 11  two_year_ago_weighted    950 non-null    float64\n",
            " 12  three_year_ago_avg       950 non-null    float64\n",
            " 13  three_year_ago_weighted  950 non-null    float64\n",
            " 14  confederation            950 non-null    object \n",
            " 15  rank_date                950 non-null    object \n",
            " 16  date                     950 non-null    object \n",
            " 17  home_team                950 non-null    object \n",
            " 18  away_team                950 non-null    object \n",
            " 19  home_score               950 non-null    int64  \n",
            " 20  away_score               950 non-null    int64  \n",
            " 21  tournament               950 non-null    object \n",
            " 22  city                     950 non-null    object \n",
            " 23  country                  950 non-null    object \n",
            " 24  neutral                  950 non-null    bool   \n",
            "dtypes: bool(1), float64(9), int64(5), object(10)\n",
            "memory usage: 186.5+ KB\n"
          ],
          "name": "stdout"
        }
      ]
    },
    {
      "cell_type": "markdown",
      "metadata": {
        "id": "ckfufNrcUHeH",
        "colab_type": "text"
      },
      "source": [
        "## 4. External Data Source Validation"
      ]
    },
    {
      "cell_type": "markdown",
      "metadata": {
        "id": "6L4sl_0WXlbg",
        "colab_type": "text"
      },
      "source": [
        "Making sure your data matches something outside of the dataset is very important. It allows you to ensure that the measurements are roughly in line with what they should be and it serves as a check on what other things might be wrong in your dataset. External validation can often be as simple as checking your data against a single number, as we will do here."
      ]
    },
    {
      "cell_type": "markdown",
      "metadata": {
        "id": "6XC_g-zKxe-r",
        "colab_type": "text"
      },
      "source": [
        "### a.Validation"
      ]
    },
    {
      "cell_type": "markdown",
      "metadata": {
        "id": "FlBMxEDBUc9B",
        "colab_type": "text"
      },
      "source": [
        "## 5. Tidying the Dataset"
      ]
    },
    {
      "cell_type": "code",
      "metadata": {
        "id": "PvCYb6dgW4yh",
        "colab_type": "code",
        "colab": {
          "base_uri": "https://localhost:8080/"
        },
        "outputId": "33baa030-be7b-44e8-db15-bac596b3929c"
      },
      "source": [
        "# Identifying the Missing Data\n",
        "#\n",
        "football.isnull().sum()"
      ],
      "execution_count": null,
      "outputs": [
        {
          "output_type": "execute_result",
          "data": {
            "text/plain": [
              "rank                       0\n",
              "country_full               0\n",
              "country_abrv               0\n",
              "total_points               0\n",
              "previous_points            0\n",
              "rank_change                0\n",
              "cur_year_avg               0\n",
              "cur_year_avg_weighted      0\n",
              "last_year_avg              0\n",
              "last_year_avg_weighted     0\n",
              "two_year_ago_avg           0\n",
              "two_year_ago_weighted      0\n",
              "three_year_ago_avg         0\n",
              "three_year_ago_weighted    0\n",
              "confederation              0\n",
              "rank_date                  0\n",
              "date                       0\n",
              "home_team                  0\n",
              "away_team                  0\n",
              "home_score                 0\n",
              "away_score                 0\n",
              "tournament                 0\n",
              "city                       0\n",
              "country                    0\n",
              "neutral                    0\n",
              "dtype: int64"
            ]
          },
          "metadata": {
            "tags": []
          },
          "execution_count": 280
        }
      ]
    },
    {
      "cell_type": "markdown",
      "metadata": {
        "id": "5DJkS4FfESBp",
        "colab_type": "text"
      },
      "source": [
        "> No Missing Data In our Merged Dataset"
      ]
    },
    {
      "cell_type": "code",
      "metadata": {
        "id": "gM5wSU3HEbwJ",
        "colab_type": "code",
        "colab": {
          "base_uri": "https://localhost:8080/"
        },
        "outputId": "41548976-7b47-4811-d578-db980c0b9dd7"
      },
      "source": [
        "# Drop Duplicates\n",
        "football.duplicated().any()"
      ],
      "execution_count": null,
      "outputs": [
        {
          "output_type": "execute_result",
          "data": {
            "text/plain": [
              "False"
            ]
          },
          "metadata": {
            "tags": []
          },
          "execution_count": 281
        }
      ]
    },
    {
      "cell_type": "code",
      "metadata": {
        "id": "j2Ua4oExFXNH",
        "colab_type": "code",
        "colab": {}
      },
      "source": [
        "# Drop Irrelevant columns\n",
        "football.drop(['country_abrv','total_points','cur_year_avg','cur_year_avg_weighted','last_year_avg','last_year_avg_weighted',\n",
        "               'two_year_ago_avg','two_year_ago_weighted','three_year_ago_avg','three_year_ago_weighted','rank_date','country','confederation','city'], axis=1, inplace=True)"
      ],
      "execution_count": null,
      "outputs": []
    },
    {
      "cell_type": "code",
      "metadata": {
        "id": "lXUUN54iLdIL",
        "colab_type": "code",
        "colab": {
          "base_uri": "https://localhost:8080/"
        },
        "outputId": "e096dd0f-1343-4ce6-a45c-a17e78ab1adf"
      },
      "source": [
        "football.head()"
      ],
      "execution_count": null,
      "outputs": [
        {
          "output_type": "execute_result",
          "data": {
            "text/html": [
              "<div>\n",
              "<style scoped>\n",
              "    .dataframe tbody tr th:only-of-type {\n",
              "        vertical-align: middle;\n",
              "    }\n",
              "\n",
              "    .dataframe tbody tr th {\n",
              "        vertical-align: top;\n",
              "    }\n",
              "\n",
              "    .dataframe thead th {\n",
              "        text-align: right;\n",
              "    }\n",
              "</style>\n",
              "<table border=\"1\" class=\"dataframe\">\n",
              "  <thead>\n",
              "    <tr style=\"text-align: right;\">\n",
              "      <th></th>\n",
              "      <th>rank</th>\n",
              "      <th>country_full</th>\n",
              "      <th>previous_points</th>\n",
              "      <th>rank_change</th>\n",
              "      <th>date</th>\n",
              "      <th>home_team</th>\n",
              "      <th>away_team</th>\n",
              "      <th>home_score</th>\n",
              "      <th>away_score</th>\n",
              "      <th>tournament</th>\n",
              "      <th>neutral</th>\n",
              "    </tr>\n",
              "  </thead>\n",
              "  <tbody>\n",
              "    <tr>\n",
              "      <th>0</th>\n",
              "      <td>8</td>\n",
              "      <td>Brazil</td>\n",
              "      <td>55</td>\n",
              "      <td>-5</td>\n",
              "      <td>1993-08-08</td>\n",
              "      <td>Brazil</td>\n",
              "      <td>Mexico</td>\n",
              "      <td>1</td>\n",
              "      <td>1</td>\n",
              "      <td>Friendly</td>\n",
              "      <td>False</td>\n",
              "    </tr>\n",
              "    <tr>\n",
              "      <th>1</th>\n",
              "      <td>35</td>\n",
              "      <td>Ecuador</td>\n",
              "      <td>23</td>\n",
              "      <td>30</td>\n",
              "      <td>1993-08-08</td>\n",
              "      <td>Ecuador</td>\n",
              "      <td>Venezuela</td>\n",
              "      <td>5</td>\n",
              "      <td>0</td>\n",
              "      <td>FIFA World Cup qualification</td>\n",
              "      <td>False</td>\n",
              "    </tr>\n",
              "    <tr>\n",
              "      <th>2</th>\n",
              "      <td>50</td>\n",
              "      <td>Zimbabwe</td>\n",
              "      <td>27</td>\n",
              "      <td>4</td>\n",
              "      <td>1993-08-08</td>\n",
              "      <td>Zimbabwe</td>\n",
              "      <td>Eswatini</td>\n",
              "      <td>2</td>\n",
              "      <td>0</td>\n",
              "      <td>Friendly</td>\n",
              "      <td>False</td>\n",
              "    </tr>\n",
              "    <tr>\n",
              "      <th>3</th>\n",
              "      <td>59</td>\n",
              "      <td>Bolivia</td>\n",
              "      <td>13</td>\n",
              "      <td>28</td>\n",
              "      <td>1993-08-08</td>\n",
              "      <td>Bolivia</td>\n",
              "      <td>Uruguay</td>\n",
              "      <td>3</td>\n",
              "      <td>1</td>\n",
              "      <td>FIFA World Cup qualification</td>\n",
              "      <td>False</td>\n",
              "    </tr>\n",
              "    <tr>\n",
              "      <th>4</th>\n",
              "      <td>65</td>\n",
              "      <td>Guinea</td>\n",
              "      <td>23</td>\n",
              "      <td>-2</td>\n",
              "      <td>1993-08-08</td>\n",
              "      <td>Guinea</td>\n",
              "      <td>Sierra Leone</td>\n",
              "      <td>1</td>\n",
              "      <td>0</td>\n",
              "      <td>Friendly</td>\n",
              "      <td>False</td>\n",
              "    </tr>\n",
              "  </tbody>\n",
              "</table>\n",
              "</div>"
            ],
            "text/plain": [
              "   rank country_full  ...                    tournament  neutral\n",
              "0     8       Brazil  ...                      Friendly    False\n",
              "1    35      Ecuador  ...  FIFA World Cup qualification    False\n",
              "2    50     Zimbabwe  ...                      Friendly    False\n",
              "3    59      Bolivia  ...  FIFA World Cup qualification    False\n",
              "4    65       Guinea  ...                      Friendly    False\n",
              "\n",
              "[5 rows x 11 columns]"
            ]
          },
          "metadata": {
            "tags": []
          },
          "execution_count": 283
        }
      ]
    },
    {
      "cell_type": "code",
      "metadata": {
        "id": "jN04ncjijmLy",
        "colab_type": "code",
        "colab": {
          "base_uri": "https://localhost:8080/"
        },
        "outputId": "d3c0a041-610c-4897-9421-d441919209e3"
      },
      "source": [
        "football.tail()"
      ],
      "execution_count": null,
      "outputs": [
        {
          "output_type": "execute_result",
          "data": {
            "text/html": [
              "<div>\n",
              "<style scoped>\n",
              "    .dataframe tbody tr th:only-of-type {\n",
              "        vertical-align: middle;\n",
              "    }\n",
              "\n",
              "    .dataframe tbody tr th {\n",
              "        vertical-align: top;\n",
              "    }\n",
              "\n",
              "    .dataframe thead th {\n",
              "        text-align: right;\n",
              "    }\n",
              "</style>\n",
              "<table border=\"1\" class=\"dataframe\">\n",
              "  <thead>\n",
              "    <tr style=\"text-align: right;\">\n",
              "      <th></th>\n",
              "      <th>rank</th>\n",
              "      <th>country_full</th>\n",
              "      <th>previous_points</th>\n",
              "      <th>rank_change</th>\n",
              "      <th>date</th>\n",
              "      <th>home_team</th>\n",
              "      <th>away_team</th>\n",
              "      <th>home_score</th>\n",
              "      <th>away_score</th>\n",
              "      <th>tournament</th>\n",
              "      <th>neutral</th>\n",
              "    </tr>\n",
              "  </thead>\n",
              "  <tbody>\n",
              "    <tr>\n",
              "      <th>945</th>\n",
              "      <td>12</td>\n",
              "      <td>England</td>\n",
              "      <td>1040</td>\n",
              "      <td>1</td>\n",
              "      <td>2018-06-07</td>\n",
              "      <td>Kárpátalja</td>\n",
              "      <td>Székely Land</td>\n",
              "      <td>4</td>\n",
              "      <td>2</td>\n",
              "      <td>CONIFA World Football Cup</td>\n",
              "      <td>True</td>\n",
              "    </tr>\n",
              "    <tr>\n",
              "      <th>946</th>\n",
              "      <td>14</td>\n",
              "      <td>Uruguay</td>\n",
              "      <td>976</td>\n",
              "      <td>3</td>\n",
              "      <td>2018-06-07</td>\n",
              "      <td>Uruguay</td>\n",
              "      <td>Uzbekistan</td>\n",
              "      <td>3</td>\n",
              "      <td>0</td>\n",
              "      <td>Friendly</td>\n",
              "      <td>False</td>\n",
              "    </tr>\n",
              "    <tr>\n",
              "      <th>947</th>\n",
              "      <td>22</td>\n",
              "      <td>Iceland</td>\n",
              "      <td>930</td>\n",
              "      <td>0</td>\n",
              "      <td>2018-06-07</td>\n",
              "      <td>Iceland</td>\n",
              "      <td>Ghana</td>\n",
              "      <td>2</td>\n",
              "      <td>2</td>\n",
              "      <td>Friendly</td>\n",
              "      <td>False</td>\n",
              "    </tr>\n",
              "    <tr>\n",
              "      <th>948</th>\n",
              "      <td>26</td>\n",
              "      <td>Austria</td>\n",
              "      <td>841</td>\n",
              "      <td>0</td>\n",
              "      <td>2018-06-07</td>\n",
              "      <td>South Korea</td>\n",
              "      <td>Bolivia</td>\n",
              "      <td>0</td>\n",
              "      <td>0</td>\n",
              "      <td>Friendly</td>\n",
              "      <td>True</td>\n",
              "    </tr>\n",
              "    <tr>\n",
              "      <th>949</th>\n",
              "      <td>97</td>\n",
              "      <td>India</td>\n",
              "      <td>354</td>\n",
              "      <td>0</td>\n",
              "      <td>2018-06-07</td>\n",
              "      <td>India</td>\n",
              "      <td>New Zealand</td>\n",
              "      <td>1</td>\n",
              "      <td>2</td>\n",
              "      <td>Intercontinental Cup</td>\n",
              "      <td>False</td>\n",
              "    </tr>\n",
              "  </tbody>\n",
              "</table>\n",
              "</div>"
            ],
            "text/plain": [
              "     rank country_full  ...                 tournament  neutral\n",
              "945    12      England  ...  CONIFA World Football Cup     True\n",
              "946    14      Uruguay  ...                   Friendly    False\n",
              "947    22      Iceland  ...                   Friendly    False\n",
              "948    26      Austria  ...                   Friendly     True\n",
              "949    97        India  ...       Intercontinental Cup    False\n",
              "\n",
              "[5 rows x 11 columns]"
            ]
          },
          "metadata": {
            "tags": []
          },
          "execution_count": 284
        }
      ]
    },
    {
      "cell_type": "code",
      "metadata": {
        "id": "LAVG6vvVLlJ8",
        "colab_type": "code",
        "colab": {
          "base_uri": "https://localhost:8080/"
        },
        "outputId": "4faebda4-6871-4094-9b59-01d7da6ea6c9"
      },
      "source": [
        "football.info()"
      ],
      "execution_count": null,
      "outputs": [
        {
          "output_type": "stream",
          "text": [
            "<class 'pandas.core.frame.DataFrame'>\n",
            "Int64Index: 950 entries, 0 to 949\n",
            "Data columns (total 11 columns):\n",
            " #   Column           Non-Null Count  Dtype \n",
            "---  ------           --------------  ----- \n",
            " 0   rank             950 non-null    int64 \n",
            " 1   country_full     950 non-null    object\n",
            " 2   previous_points  950 non-null    int64 \n",
            " 3   rank_change      950 non-null    int64 \n",
            " 4   date             950 non-null    object\n",
            " 5   home_team        950 non-null    object\n",
            " 6   away_team        950 non-null    object\n",
            " 7   home_score       950 non-null    int64 \n",
            " 8   away_score       950 non-null    int64 \n",
            " 9   tournament       950 non-null    object\n",
            " 10  neutral          950 non-null    bool  \n",
            "dtypes: bool(1), int64(5), object(5)\n",
            "memory usage: 82.6+ KB\n"
          ],
          "name": "stdout"
        }
      ]
    },
    {
      "cell_type": "code",
      "metadata": {
        "id": "5o_bQcT5W3Wz",
        "colab_type": "code",
        "colab": {
          "base_uri": "https://localhost:8080/"
        },
        "outputId": "029e78ac-84d8-42f8-ab66-aff2ed026dd7"
      },
      "source": [
        "# Checking for Outliers\n",
        "#\n",
        "col_names = ['rank','rank_change','home_score','away_score','previous_points']\n",
        "fig,ax = plt.subplots(len(col_names),figsize=(15,20))\n",
        "\n",
        "for i, col_val in enumerate(col_names):\n",
        "  sns.boxplot(football[col_val], ax=ax[i], orient= 'v')\n",
        "  #plt.subplots_adjust(top= 1.5,bottom=0.5,hspace=2)\n",
        "  ax[i].set_title('Boxplot for {}'.format(col_val))\n",
        "  ax[i].set_xlabel(col_val, fontsize=10)"
      ],
      "execution_count": null,
      "outputs": [
        {
          "output_type": "display_data",
          "data": {
            "image/png": "[encoded data removed]",
            "text/plain": [
              "<Figure size 1080x1440 with 5 Axes>"
            ]
          },
          "metadata": {
            "tags": [],
            "needs_background": "light"
          }
        }
      ]
    },
    {
      "cell_type": "code",
      "metadata": {
        "id": "3R2bZAtZM1NW",
        "colab_type": "code",
        "colab": {}
      },
      "source": [
        "# Dropping Outliers\n",
        "\n",
        "q3 = football.quantile(0.75)\n",
        "q1 = football.quantile(0.25)\n",
        "\n",
        "iqr = q3 -q1\n",
        "\n",
        "football_o = football[~((football < (q1 - 1.5 * iqr)) | (football > (q3 + 1.5 * iqr))).any(axis=1)]\n"
      ],
      "execution_count": null,
      "outputs": []
    },
    {
      "cell_type": "code",
      "metadata": {
        "id": "TK1g-7yzPUMz",
        "colab_type": "code",
        "colab": {
          "base_uri": "https://localhost:8080/"
        },
        "outputId": "bf84f040-165e-450a-e616-b844cf78b7b5"
      },
      "source": [
        "print(\"The no. of records after removing outliers :\",football_o.shape)\n",
        "print(\"The no. of records before :\",football.shape)"
      ],
      "execution_count": null,
      "outputs": [
        {
          "output_type": "stream",
          "text": [
            "The no. of records after removing outliers : (703, 11)\n",
            "The no. of records before : (950, 11)\n"
          ],
          "name": "stdout"
        }
      ]
    },
    {
      "cell_type": "code",
      "metadata": {
        "id": "PWlukLKUvFQN",
        "colab_type": "code",
        "colab": {}
      },
      "source": [
        "# Checking for Anomalies\n",
        "#\n"
      ],
      "execution_count": null,
      "outputs": []
    },
    {
      "cell_type": "code",
      "metadata": {
        "id": "hW_YSlj2P0fX",
        "colab_type": "code",
        "colab": {}
      },
      "source": [
        "# Import the clean Dataset\n",
        "football_o.to_csv(\"football_new.csv\")"
      ],
      "execution_count": null,
      "outputs": []
    },
    {
      "cell_type": "markdown",
      "metadata": {
        "id": "rF2ABPsHUtbZ",
        "colab_type": "text"
      },
      "source": [
        "## 6. Exploratory Analysis"
      ]
    },
    {
      "cell_type": "code",
      "metadata": {
        "id": "N3iApAanQtXr",
        "colab_type": "code",
        "colab": {
          "base_uri": "https://localhost:8080/",
          "height": 204
        },
        "outputId": "b707bc88-af58-4f3b-f5cb-0e26ac1da339"
      },
      "source": [
        "# Load clean Dataset\n",
        "data = pd.read_csv('football_new.csv')\n",
        "\n",
        "data.drop('Unnamed: 0', 1, inplace=True)\n",
        "data.head()"
      ],
      "execution_count": null,
      "outputs": [
        {
          "output_type": "execute_result",
          "data": {
            "text/html": [
              "<div>\n",
              "<style scoped>\n",
              "    .dataframe tbody tr th:only-of-type {\n",
              "        vertical-align: middle;\n",
              "    }\n",
              "\n",
              "    .dataframe tbody tr th {\n",
              "        vertical-align: top;\n",
              "    }\n",
              "\n",
              "    .dataframe thead th {\n",
              "        text-align: right;\n",
              "    }\n",
              "</style>\n",
              "<table border=\"1\" class=\"dataframe\">\n",
              "  <thead>\n",
              "    <tr style=\"text-align: right;\">\n",
              "      <th></th>\n",
              "      <th>rank</th>\n",
              "      <th>country_full</th>\n",
              "      <th>previous_points</th>\n",
              "      <th>rank_change</th>\n",
              "      <th>date</th>\n",
              "      <th>home_team</th>\n",
              "      <th>away_team</th>\n",
              "      <th>home_score</th>\n",
              "      <th>away_score</th>\n",
              "      <th>tournament</th>\n",
              "      <th>neutral</th>\n",
              "    </tr>\n",
              "  </thead>\n",
              "  <tbody>\n",
              "    <tr>\n",
              "      <th>0</th>\n",
              "      <td>8</td>\n",
              "      <td>Brazil</td>\n",
              "      <td>55</td>\n",
              "      <td>-5</td>\n",
              "      <td>1993-08-08</td>\n",
              "      <td>Brazil</td>\n",
              "      <td>Mexico</td>\n",
              "      <td>1</td>\n",
              "      <td>1</td>\n",
              "      <td>Friendly</td>\n",
              "      <td>False</td>\n",
              "    </tr>\n",
              "    <tr>\n",
              "      <th>1</th>\n",
              "      <td>50</td>\n",
              "      <td>Zimbabwe</td>\n",
              "      <td>27</td>\n",
              "      <td>4</td>\n",
              "      <td>1993-08-08</td>\n",
              "      <td>Zimbabwe</td>\n",
              "      <td>Eswatini</td>\n",
              "      <td>2</td>\n",
              "      <td>0</td>\n",
              "      <td>Friendly</td>\n",
              "      <td>False</td>\n",
              "    </tr>\n",
              "    <tr>\n",
              "      <th>2</th>\n",
              "      <td>65</td>\n",
              "      <td>Guinea</td>\n",
              "      <td>23</td>\n",
              "      <td>-2</td>\n",
              "      <td>1993-08-08</td>\n",
              "      <td>Guinea</td>\n",
              "      <td>Sierra Leone</td>\n",
              "      <td>1</td>\n",
              "      <td>0</td>\n",
              "      <td>Friendly</td>\n",
              "      <td>False</td>\n",
              "    </tr>\n",
              "    <tr>\n",
              "      <th>3</th>\n",
              "      <td>67</td>\n",
              "      <td>Paraguay</td>\n",
              "      <td>22</td>\n",
              "      <td>1</td>\n",
              "      <td>1993-08-08</td>\n",
              "      <td>Paraguay</td>\n",
              "      <td>Argentina</td>\n",
              "      <td>1</td>\n",
              "      <td>3</td>\n",
              "      <td>FIFA World Cup qualification</td>\n",
              "      <td>False</td>\n",
              "    </tr>\n",
              "    <tr>\n",
              "      <th>4</th>\n",
              "      <td>44</td>\n",
              "      <td>Saudi Arabia</td>\n",
              "      <td>34</td>\n",
              "      <td>0</td>\n",
              "      <td>1993-09-23</td>\n",
              "      <td>Saudi Arabia</td>\n",
              "      <td>Costa Rica</td>\n",
              "      <td>1</td>\n",
              "      <td>2</td>\n",
              "      <td>Friendly</td>\n",
              "      <td>False</td>\n",
              "    </tr>\n",
              "  </tbody>\n",
              "</table>\n",
              "</div>"
            ],
            "text/plain": [
              "   rank  country_full  ...                    tournament  neutral\n",
              "0     8        Brazil  ...                      Friendly    False\n",
              "1    50      Zimbabwe  ...                      Friendly    False\n",
              "2    65        Guinea  ...                      Friendly    False\n",
              "3    67      Paraguay  ...  FIFA World Cup qualification    False\n",
              "4    44  Saudi Arabia  ...                      Friendly    False\n",
              "\n",
              "[5 rows x 11 columns]"
            ]
          },
          "metadata": {
            "tags": []
          },
          "execution_count": 291
        }
      ]
    },
    {
      "cell_type": "code",
      "metadata": {
        "id": "5nnRToniXGDK",
        "colab_type": "code",
        "colab": {
          "base_uri": "https://localhost:8080/",
          "height": 1000
        },
        "outputId": "7f2a55c3-fb86-49c0-93da-f9d136cae6b6"
      },
      "source": [
        "categorical = ['country_full','date','home_team','away_team','tournament']\n",
        "\n",
        "for i in categorical:\n",
        "  print(football_o[i].value_counts())\n",
        "  print('*****************************')"
      ],
      "execution_count": null,
      "outputs": [
        {
          "output_type": "stream",
          "text": [
            "Estonia         14\n",
            "Portugal        14\n",
            "England         13\n",
            "Greece          13\n",
            "Saudi Arabia    12\n",
            "                ..\n",
            "Chad             1\n",
            "Liberia          1\n",
            "Seychelles       1\n",
            "Guyana           1\n",
            "Canada           1\n",
            "Name: country_full, Length: 146, dtype: int64\n",
            "*****************************\n",
            "2010-08-11    46\n",
            "2010-03-03    38\n",
            "2007-08-22    36\n",
            "2005-08-17    36\n",
            "2006-08-16    30\n",
            "              ..\n",
            "2017-05-04     1\n",
            "1996-01-24     1\n",
            "2000-12-20     1\n",
            "1998-07-15     1\n",
            "2011-12-21     1\n",
            "Name: date, Length: 132, dtype: int64\n",
            "*****************************\n",
            "Portugal        14\n",
            "Estonia         14\n",
            "Greece          13\n",
            "Saudi Arabia    12\n",
            "Hungary         12\n",
            "                ..\n",
            "Mauritania       1\n",
            "Bermuda          1\n",
            "Indonesia        1\n",
            "Chad             1\n",
            "Barbados         1\n",
            "Name: home_team, Length: 147, dtype: int64\n",
            "*****************************\n",
            "Argentina          13\n",
            "Spain              12\n",
            "Bulgaria           11\n",
            "Uruguay            11\n",
            "United States      11\n",
            "                   ..\n",
            "Macau               1\n",
            "Senegal             1\n",
            "Guinea              1\n",
            "Solomon Islands     1\n",
            "Namibia             1\n",
            "Name: away_team, Length: 161, dtype: int64\n",
            "*****************************\n",
            "Friendly                                      490\n",
            "FIFA World Cup qualification                  114\n",
            "UEFA Euro qualification                        38\n",
            "AFC Asian Cup qualification                    25\n",
            "Gulf Cup                                        4\n",
            "African Cup of Nations qualification            3\n",
            "Cyprus International Tournament                 3\n",
            "AFF Championship                                2\n",
            "King's Cup                                      2\n",
            "SAFF Cup                                        2\n",
            "Windward Islands Tournament                     2\n",
            "Gold Cup qualification                          2\n",
            "EAFF Championship                               1\n",
            "Copa América                                    1\n",
            "Intercontinental Cup                            1\n",
            "Oceania Nations Cup                             1\n",
            "UAFA Cup                                        1\n",
            "Confederations Cup                              1\n",
            "UNCAF Cup                                       1\n",
            "Viva World Cup                                  1\n",
            "AFC Asian Cup                                   1\n",
            "AFC Challenge Cup qualification                 1\n",
            "CONIFA World Football Cup                       1\n",
            "Malta International Tournament                  1\n",
            "United Arab Emirates Friendship Tournament      1\n",
            "Copa del Pacífico                               1\n",
            "CFU Caribbean Cup                               1\n",
            "CECAFA Cup                                      1\n",
            "Name: tournament, dtype: int64\n",
            "*****************************\n"
          ],
          "name": "stdout"
        }
      ]
    },
    {
      "cell_type": "code",
      "metadata": {
        "id": "C65LrIHPRKWS",
        "colab_type": "code",
        "colab": {
          "base_uri": "https://localhost:8080/",
          "height": 398
        },
        "outputId": "b8ed9adc-b04f-4759-b950-ac3dd5e4f0c2"
      },
      "source": [
        "# Plotting Bar Plots\n",
        "\n",
        "# Top 40 countries we have which are similar to the List of Home Teams\n",
        "sns.countplot(data['country_full'], order= data['country_full'].value_counts().iloc[:40].index)\n",
        "plt.xticks(rotation = 90)\n",
        "plt.xlabel('Countries', fontsize=12)\n",
        "plt.title('Home Team Countries')"
      ],
      "execution_count": null,
      "outputs": [
        {
          "output_type": "execute_result",
          "data": {
            "text/plain": [
              "Text(0.5, 1.0, 'Home Team Countries')"
            ]
          },
          "metadata": {
            "tags": []
          },
          "execution_count": 293
        },
        {
          "output_type": "display_data",
          "data": {
            "image/png": "[encoded data removed]",
            "text/plain": [
              "<Figure size 432x288 with 1 Axes>"
            ]
          },
          "metadata": {
            "tags": [],
            "needs_background": "light"
          }
        }
      ]
    },
    {
      "cell_type": "code",
      "metadata": {
        "id": "Kf6I5IimT7xP",
        "colab_type": "code",
        "colab": {
          "base_uri": "https://localhost:8080/",
          "height": 427
        },
        "outputId": "be51fbe8-1538-4f28-cf9c-ea387aa23c96"
      },
      "source": [
        "# 40 of the Away team countries\n",
        "sns.countplot(data['away_team'], order= data['away_team'].value_counts().iloc[:40].index)\n",
        "plt.xticks(rotation = 90)\n",
        "plt.xlabel('Countries', fontsize=12)\n",
        "plt.title('Away Team  Countries')"
      ],
      "execution_count": null,
      "outputs": [
        {
          "output_type": "execute_result",
          "data": {
            "text/plain": [
              "Text(0.5, 1.0, 'Away Team  Countries')"
            ]
          },
          "metadata": {
            "tags": []
          },
          "execution_count": 294
        },
        {
          "output_type": "display_data",
          "data": {
            "image/png": "[encoded data removed]",
            "text/plain": [
              "<Figure size 432x288 with 1 Axes>"
            ]
          },
          "metadata": {
            "tags": [],
            "needs_background": "light"
          }
        }
      ]
    },
    {
      "cell_type": "code",
      "metadata": {
        "id": "bNwjMLTWS8fY",
        "colab_type": "code",
        "colab": {
          "base_uri": "https://localhost:8080/",
          "height": 529
        },
        "outputId": "5ab8fffa-ee50-4d3e-debb-c173c53598c9"
      },
      "source": [
        "sns.countplot(data['tournament'], order= data['tournament'].value_counts().index)\n",
        "plt.xticks(rotation = 90)\n",
        "plt.xlabel('Tournaments', fontsize=12)\n",
        "plt.title('Types of Tournments')"
      ],
      "execution_count": null,
      "outputs": [
        {
          "output_type": "execute_result",
          "data": {
            "text/plain": [
              "Text(0.5, 1.0, 'Types of Tournments')"
            ]
          },
          "metadata": {
            "tags": []
          },
          "execution_count": 295
        },
        {
          "output_type": "display_data",
          "data": {
            "image/png": "[encoded data removed]",
            "text/plain": [
              "<Figure size 432x288 with 1 Axes>"
            ]
          },
          "metadata": {
            "tags": [],
            "needs_background": "light"
          }
        }
      ]
    },
    {
      "cell_type": "markdown",
      "metadata": {
        "id": "6xA9agekcd_0",
        "colab_type": "text"
      },
      "source": [
        "From Our Plots we see that England has the highest count in being the Home Team\n",
        "\n",
        "Argentina is the country with highest count in being the Away Team\n",
        "\n",
        "The top 3 tournaments are\n",
        "*   Friendly\n",
        "*   Fifa World Cup\n",
        "*   UEFA\n",
        "\n",
        "\n",
        "\n",
        "\n",
        "\n",
        "\n",
        "\n"
      ]
    },
    {
      "cell_type": "markdown",
      "metadata": {
        "id": "S4dQGYSqUfF3",
        "colab_type": "text"
      },
      "source": [
        "Numerical Variables"
      ]
    },
    {
      "cell_type": "code",
      "metadata": {
        "id": "mZ25yrPKTtxD",
        "colab_type": "code",
        "colab": {
          "base_uri": "https://localhost:8080/",
          "height": 421
        },
        "outputId": "8d7fa317-d633-47f5-bbc7-3c2668003eab"
      },
      "source": [
        "#Description\n",
        "numerical = data[['rank','rank_change','home_score','away_score','previous_points']]\n",
        "\n",
        "des = numerical.describe()\n",
        "des.loc['Range'] = des.loc['max'] - des.loc['min']\n",
        "des.loc['IQR'] = des.loc['75%'] - des.loc['25%'] \n",
        "# appending interquartile range instead of recalculating it\n",
        "des = des.append(numerical.reindex(des.columns, axis=1).agg(['skew', 'kurt']))\n",
        "des"
      ],
      "execution_count": null,
      "outputs": [
        {
          "output_type": "execute_result",
          "data": {
            "text/html": [
              "<div>\n",
              "<style scoped>\n",
              "    .dataframe tbody tr th:only-of-type {\n",
              "        vertical-align: middle;\n",
              "    }\n",
              "\n",
              "    .dataframe tbody tr th {\n",
              "        vertical-align: top;\n",
              "    }\n",
              "\n",
              "    .dataframe thead th {\n",
              "        text-align: right;\n",
              "    }\n",
              "</style>\n",
              "<table border=\"1\" class=\"dataframe\">\n",
              "  <thead>\n",
              "    <tr style=\"text-align: right;\">\n",
              "      <th></th>\n",
              "      <th>rank</th>\n",
              "      <th>rank_change</th>\n",
              "      <th>home_score</th>\n",
              "      <th>away_score</th>\n",
              "      <th>previous_points</th>\n",
              "    </tr>\n",
              "  </thead>\n",
              "  <tbody>\n",
              "    <tr>\n",
              "      <th>count</th>\n",
              "      <td>703.000000</td>\n",
              "      <td>703.000000</td>\n",
              "      <td>703.000000</td>\n",
              "      <td>703.000000</td>\n",
              "      <td>703.000000</td>\n",
              "    </tr>\n",
              "    <tr>\n",
              "      <th>mean</th>\n",
              "      <td>63.507824</td>\n",
              "      <td>-0.385491</td>\n",
              "      <td>1.431010</td>\n",
              "      <td>0.977240</td>\n",
              "      <td>466.270270</td>\n",
              "    </tr>\n",
              "    <tr>\n",
              "      <th>std</th>\n",
              "      <td>47.279910</td>\n",
              "      <td>2.206741</td>\n",
              "      <td>1.234825</td>\n",
              "      <td>1.067278</td>\n",
              "      <td>289.013862</td>\n",
              "    </tr>\n",
              "    <tr>\n",
              "      <th>min</th>\n",
              "      <td>1.000000</td>\n",
              "      <td>-6.000000</td>\n",
              "      <td>0.000000</td>\n",
              "      <td>0.000000</td>\n",
              "      <td>0.000000</td>\n",
              "    </tr>\n",
              "    <tr>\n",
              "      <th>25%</th>\n",
              "      <td>24.500000</td>\n",
              "      <td>-2.000000</td>\n",
              "      <td>0.000000</td>\n",
              "      <td>0.000000</td>\n",
              "      <td>248.000000</td>\n",
              "    </tr>\n",
              "    <tr>\n",
              "      <th>50%</th>\n",
              "      <td>53.000000</td>\n",
              "      <td>0.000000</td>\n",
              "      <td>1.000000</td>\n",
              "      <td>1.000000</td>\n",
              "      <td>501.000000</td>\n",
              "    </tr>\n",
              "    <tr>\n",
              "      <th>75%</th>\n",
              "      <td>93.000000</td>\n",
              "      <td>1.000000</td>\n",
              "      <td>2.000000</td>\n",
              "      <td>2.000000</td>\n",
              "      <td>658.500000</td>\n",
              "    </tr>\n",
              "    <tr>\n",
              "      <th>max</th>\n",
              "      <td>201.000000</td>\n",
              "      <td>5.000000</td>\n",
              "      <td>5.000000</td>\n",
              "      <td>5.000000</td>\n",
              "      <td>1306.000000</td>\n",
              "    </tr>\n",
              "    <tr>\n",
              "      <th>Range</th>\n",
              "      <td>200.000000</td>\n",
              "      <td>11.000000</td>\n",
              "      <td>5.000000</td>\n",
              "      <td>5.000000</td>\n",
              "      <td>1306.000000</td>\n",
              "    </tr>\n",
              "    <tr>\n",
              "      <th>IQR</th>\n",
              "      <td>68.500000</td>\n",
              "      <td>3.000000</td>\n",
              "      <td>2.000000</td>\n",
              "      <td>2.000000</td>\n",
              "      <td>410.500000</td>\n",
              "    </tr>\n",
              "    <tr>\n",
              "      <th>skew</th>\n",
              "      <td>0.798790</td>\n",
              "      <td>-0.234939</td>\n",
              "      <td>0.812327</td>\n",
              "      <td>1.145241</td>\n",
              "      <td>0.133222</td>\n",
              "    </tr>\n",
              "    <tr>\n",
              "      <th>kurt</th>\n",
              "      <td>-0.162323</td>\n",
              "      <td>0.594791</td>\n",
              "      <td>0.315300</td>\n",
              "      <td>1.130913</td>\n",
              "      <td>-0.498478</td>\n",
              "    </tr>\n",
              "  </tbody>\n",
              "</table>\n",
              "</div>"
            ],
            "text/plain": [
              "             rank  rank_change  home_score  away_score  previous_points\n",
              "count  703.000000   703.000000  703.000000  703.000000       703.000000\n",
              "mean    63.507824    -0.385491    1.431010    0.977240       466.270270\n",
              "std     47.279910     2.206741    1.234825    1.067278       289.013862\n",
              "min      1.000000    -6.000000    0.000000    0.000000         0.000000\n",
              "25%     24.500000    -2.000000    0.000000    0.000000       248.000000\n",
              "50%     53.000000     0.000000    1.000000    1.000000       501.000000\n",
              "75%     93.000000     1.000000    2.000000    2.000000       658.500000\n",
              "max    201.000000     5.000000    5.000000    5.000000      1306.000000\n",
              "Range  200.000000    11.000000    5.000000    5.000000      1306.000000\n",
              "IQR     68.500000     3.000000    2.000000    2.000000       410.500000\n",
              "skew     0.798790    -0.234939    0.812327    1.145241         0.133222\n",
              "kurt    -0.162323     0.594791    0.315300    1.130913        -0.498478"
            ]
          },
          "metadata": {
            "tags": []
          },
          "execution_count": 296
        }
      ]
    },
    {
      "cell_type": "code",
      "metadata": {
        "id": "2ZjUoI3idYil",
        "colab_type": "code",
        "colab": {
          "base_uri": "https://localhost:8080/",
          "height": 1000
        },
        "outputId": "860e81a8-2e88-4dbf-92c6-7e4b67cb0b98"
      },
      "source": [
        "col_name = ['rank','rank_change','home_score','away_score','previous_points']\n",
        "\n",
        "fig,ax = plt.subplots(len(col_name),figsize=(15,20))\n",
        "\n",
        "for i, col_val in enumerate(col_name):\n",
        "  sns.distplot(data[col_val], ax=ax[i])\n",
        "  #plt.subplots_adjust(top= 1.5,bottom=0.5,hspace=2)\n",
        "  ax[i].set_title('Histogram for {}'.format(col_val))\n",
        "  ax[i].set_xlabel(col_val, fontsize=10)"
      ],
      "execution_count": null,
      "outputs": [
        {
          "output_type": "display_data",
          "data": {
            "image/png": "[encoded data removed]",
            "text/plain": [
              "<Figure size 1080x1440 with 5 Axes>"
            ]
          },
          "metadata": {
            "tags": [],
            "needs_background": "light"
          }
        }
      ]
    },
    {
      "cell_type": "markdown",
      "metadata": {
        "id": "hLz017HseeBY",
        "colab_type": "text"
      },
      "source": [
        "Bivariate Analysis"
      ]
    },
    {
      "cell_type": "code",
      "metadata": {
        "id": "DEJODroEe6t2",
        "colab_type": "code",
        "colab": {
          "base_uri": "https://localhost:8080/",
          "height": 944
        },
        "outputId": "54959ea5-0cb3-41ad-bca6-33fbc13a91f2"
      },
      "source": [
        "sns.pairplot(numerical)"
      ],
      "execution_count": null,
      "outputs": [
        {
          "output_type": "execute_result",
          "data": {
            "text/plain": [
              "<seaborn.axisgrid.PairGrid at 0x7f39811599e8>"
            ]
          },
          "metadata": {
            "tags": []
          },
          "execution_count": 298
        },
        {
          "output_type": "display_data",
          "data": {
            "image/png": "[encoded data removed]",
            "text/plain": [
              "<Figure size 900x900 with 30 Axes>"
            ]
          },
          "metadata": {
            "tags": [],
            "needs_background": "light"
          }
        }
      ]
    },
    {
      "cell_type": "code",
      "metadata": {
        "id": "pG4d5FiAgEB5",
        "colab_type": "code",
        "colab": {
          "base_uri": "https://localhost:8080/",
          "height": 355
        },
        "outputId": "1fb7a36a-b4c7-49c6-9d25-f9c743eea6be"
      },
      "source": [
        "# A heatmap to show correlation\n",
        "\n",
        "sns.heatmap(numerical.corr(), annot=True)"
      ],
      "execution_count": null,
      "outputs": [
        {
          "output_type": "execute_result",
          "data": {
            "text/plain": [
              "<matplotlib.axes._subplots.AxesSubplot at 0x7f39805cce10>"
            ]
          },
          "metadata": {
            "tags": []
          },
          "execution_count": 299
        },
        {
          "output_type": "display_data",
          "data": {
            "image/png": "[encoded data removed]",
            "text/plain": [
              "<Figure size 432x288 with 2 Axes>"
            ]
          },
          "metadata": {
            "tags": [],
            "needs_background": "light"
          }
        }
      ]
    },
    {
      "cell_type": "markdown",
      "metadata": {
        "id": "MrKhCtlb-2gi",
        "colab_type": "text"
      },
      "source": [
        "Multicollinearity wasn't checked using the VIF method because the Independent Variables very low correlation "
      ]
    },
    {
      "cell_type": "markdown",
      "metadata": {
        "id": "tgh_9oL8weC9",
        "colab_type": "text"
      },
      "source": [
        "**Feature Engineering**"
      ]
    },
    {
      "cell_type": "code",
      "metadata": {
        "id": "ZPuBEoey1I91",
        "colab_type": "code",
        "colab": {
          "base_uri": "https://localhost:8080/",
          "height": 292
        },
        "outputId": "8b0ac4c1-a754-41a8-e118-ee911d1cd9b8"
      },
      "source": [
        "tournament = pd.get_dummies(data['tournament'], drop_first=True)\n",
        "tournament.head()"
      ],
      "execution_count": null,
      "outputs": [
        {
          "output_type": "execute_result",
          "data": {
            "text/html": [
              "<div>\n",
              "<style scoped>\n",
              "    .dataframe tbody tr th:only-of-type {\n",
              "        vertical-align: middle;\n",
              "    }\n",
              "\n",
              "    .dataframe tbody tr th {\n",
              "        vertical-align: top;\n",
              "    }\n",
              "\n",
              "    .dataframe thead th {\n",
              "        text-align: right;\n",
              "    }\n",
              "</style>\n",
              "<table border=\"1\" class=\"dataframe\">\n",
              "  <thead>\n",
              "    <tr style=\"text-align: right;\">\n",
              "      <th></th>\n",
              "      <th>AFC Asian Cup qualification</th>\n",
              "      <th>AFC Challenge Cup qualification</th>\n",
              "      <th>AFF Championship</th>\n",
              "      <th>African Cup of Nations qualification</th>\n",
              "      <th>CECAFA Cup</th>\n",
              "      <th>CFU Caribbean Cup</th>\n",
              "      <th>CONIFA World Football Cup</th>\n",
              "      <th>Confederations Cup</th>\n",
              "      <th>Copa América</th>\n",
              "      <th>Copa del Pacífico</th>\n",
              "      <th>Cyprus International Tournament</th>\n",
              "      <th>EAFF Championship</th>\n",
              "      <th>FIFA World Cup qualification</th>\n",
              "      <th>Friendly</th>\n",
              "      <th>Gold Cup qualification</th>\n",
              "      <th>Gulf Cup</th>\n",
              "      <th>Intercontinental Cup</th>\n",
              "      <th>King's Cup</th>\n",
              "      <th>Malta International Tournament</th>\n",
              "      <th>Oceania Nations Cup</th>\n",
              "      <th>SAFF Cup</th>\n",
              "      <th>UAFA Cup</th>\n",
              "      <th>UEFA Euro qualification</th>\n",
              "      <th>UNCAF Cup</th>\n",
              "      <th>United Arab Emirates Friendship Tournament</th>\n",
              "      <th>Viva World Cup</th>\n",
              "      <th>Windward Islands Tournament</th>\n",
              "    </tr>\n",
              "  </thead>\n",
              "  <tbody>\n",
              "    <tr>\n",
              "      <th>0</th>\n",
              "      <td>0</td>\n",
              "      <td>0</td>\n",
              "      <td>0</td>\n",
              "      <td>0</td>\n",
              "      <td>0</td>\n",
              "      <td>0</td>\n",
              "      <td>0</td>\n",
              "      <td>0</td>\n",
              "      <td>0</td>\n",
              "      <td>0</td>\n",
              "      <td>0</td>\n",
              "      <td>0</td>\n",
              "      <td>0</td>\n",
              "      <td>1</td>\n",
              "      <td>0</td>\n",
              "      <td>0</td>\n",
              "      <td>0</td>\n",
              "      <td>0</td>\n",
              "      <td>0</td>\n",
              "      <td>0</td>\n",
              "      <td>0</td>\n",
              "      <td>0</td>\n",
              "      <td>0</td>\n",
              "      <td>0</td>\n",
              "      <td>0</td>\n",
              "      <td>0</td>\n",
              "      <td>0</td>\n",
              "    </tr>\n",
              "    <tr>\n",
              "      <th>1</th>\n",
              "      <td>0</td>\n",
              "      <td>0</td>\n",
              "      <td>0</td>\n",
              "      <td>0</td>\n",
              "      <td>0</td>\n",
              "      <td>0</td>\n",
              "      <td>0</td>\n",
              "      <td>0</td>\n",
              "      <td>0</td>\n",
              "      <td>0</td>\n",
              "      <td>0</td>\n",
              "      <td>0</td>\n",
              "      <td>0</td>\n",
              "      <td>1</td>\n",
              "      <td>0</td>\n",
              "      <td>0</td>\n",
              "      <td>0</td>\n",
              "      <td>0</td>\n",
              "      <td>0</td>\n",
              "      <td>0</td>\n",
              "      <td>0</td>\n",
              "      <td>0</td>\n",
              "      <td>0</td>\n",
              "      <td>0</td>\n",
              "      <td>0</td>\n",
              "      <td>0</td>\n",
              "      <td>0</td>\n",
              "    </tr>\n",
              "    <tr>\n",
              "      <th>2</th>\n",
              "      <td>0</td>\n",
              "      <td>0</td>\n",
              "      <td>0</td>\n",
              "      <td>0</td>\n",
              "      <td>0</td>\n",
              "      <td>0</td>\n",
              "      <td>0</td>\n",
              "      <td>0</td>\n",
              "      <td>0</td>\n",
              "      <td>0</td>\n",
              "      <td>0</td>\n",
              "      <td>0</td>\n",
              "      <td>0</td>\n",
              "      <td>1</td>\n",
              "      <td>0</td>\n",
              "      <td>0</td>\n",
              "      <td>0</td>\n",
              "      <td>0</td>\n",
              "      <td>0</td>\n",
              "      <td>0</td>\n",
              "      <td>0</td>\n",
              "      <td>0</td>\n",
              "      <td>0</td>\n",
              "      <td>0</td>\n",
              "      <td>0</td>\n",
              "      <td>0</td>\n",
              "      <td>0</td>\n",
              "    </tr>\n",
              "    <tr>\n",
              "      <th>3</th>\n",
              "      <td>0</td>\n",
              "      <td>0</td>\n",
              "      <td>0</td>\n",
              "      <td>0</td>\n",
              "      <td>0</td>\n",
              "      <td>0</td>\n",
              "      <td>0</td>\n",
              "      <td>0</td>\n",
              "      <td>0</td>\n",
              "      <td>0</td>\n",
              "      <td>0</td>\n",
              "      <td>0</td>\n",
              "      <td>1</td>\n",
              "      <td>0</td>\n",
              "      <td>0</td>\n",
              "      <td>0</td>\n",
              "      <td>0</td>\n",
              "      <td>0</td>\n",
              "      <td>0</td>\n",
              "      <td>0</td>\n",
              "      <td>0</td>\n",
              "      <td>0</td>\n",
              "      <td>0</td>\n",
              "      <td>0</td>\n",
              "      <td>0</td>\n",
              "      <td>0</td>\n",
              "      <td>0</td>\n",
              "    </tr>\n",
              "    <tr>\n",
              "      <th>4</th>\n",
              "      <td>0</td>\n",
              "      <td>0</td>\n",
              "      <td>0</td>\n",
              "      <td>0</td>\n",
              "      <td>0</td>\n",
              "      <td>0</td>\n",
              "      <td>0</td>\n",
              "      <td>0</td>\n",
              "      <td>0</td>\n",
              "      <td>0</td>\n",
              "      <td>0</td>\n",
              "      <td>0</td>\n",
              "      <td>0</td>\n",
              "      <td>1</td>\n",
              "      <td>0</td>\n",
              "      <td>0</td>\n",
              "      <td>0</td>\n",
              "      <td>0</td>\n",
              "      <td>0</td>\n",
              "      <td>0</td>\n",
              "      <td>0</td>\n",
              "      <td>0</td>\n",
              "      <td>0</td>\n",
              "      <td>0</td>\n",
              "      <td>0</td>\n",
              "      <td>0</td>\n",
              "      <td>0</td>\n",
              "    </tr>\n",
              "  </tbody>\n",
              "</table>\n",
              "</div>"
            ],
            "text/plain": [
              "   AFC Asian Cup qualification  ...  Windward Islands Tournament\n",
              "0                            0  ...                            0\n",
              "1                            0  ...                            0\n",
              "2                            0  ...                            0\n",
              "3                            0  ...                            0\n",
              "4                            0  ...                            0\n",
              "\n",
              "[5 rows x 27 columns]"
            ]
          },
          "metadata": {
            "tags": []
          },
          "execution_count": 300
        }
      ]
    },
    {
      "cell_type": "code",
      "metadata": {
        "id": "Mj4yeA_V1I0P",
        "colab_type": "code",
        "colab": {
          "base_uri": "https://localhost:8080/",
          "height": 292
        },
        "outputId": "d26906a9-3999-4088-dae8-d78960959d0f"
      },
      "source": [
        "data1 = data.drop(['tournament','country_full','previous_points','rank_change','date','home_team','away_team','neutral'],1)\n",
        "\n",
        "independent_var = pd.concat([data1,tournament], axis=1)\n",
        "independent_var.head()"
      ],
      "execution_count": null,
      "outputs": [
        {
          "output_type": "execute_result",
          "data": {
            "text/html": [
              "<div>\n",
              "<style scoped>\n",
              "    .dataframe tbody tr th:only-of-type {\n",
              "        vertical-align: middle;\n",
              "    }\n",
              "\n",
              "    .dataframe tbody tr th {\n",
              "        vertical-align: top;\n",
              "    }\n",
              "\n",
              "    .dataframe thead th {\n",
              "        text-align: right;\n",
              "    }\n",
              "</style>\n",
              "<table border=\"1\" class=\"dataframe\">\n",
              "  <thead>\n",
              "    <tr style=\"text-align: right;\">\n",
              "      <th></th>\n",
              "      <th>rank</th>\n",
              "      <th>home_score</th>\n",
              "      <th>away_score</th>\n",
              "      <th>AFC Asian Cup qualification</th>\n",
              "      <th>AFC Challenge Cup qualification</th>\n",
              "      <th>AFF Championship</th>\n",
              "      <th>African Cup of Nations qualification</th>\n",
              "      <th>CECAFA Cup</th>\n",
              "      <th>CFU Caribbean Cup</th>\n",
              "      <th>CONIFA World Football Cup</th>\n",
              "      <th>Confederations Cup</th>\n",
              "      <th>Copa América</th>\n",
              "      <th>Copa del Pacífico</th>\n",
              "      <th>Cyprus International Tournament</th>\n",
              "      <th>EAFF Championship</th>\n",
              "      <th>FIFA World Cup qualification</th>\n",
              "      <th>Friendly</th>\n",
              "      <th>Gold Cup qualification</th>\n",
              "      <th>Gulf Cup</th>\n",
              "      <th>Intercontinental Cup</th>\n",
              "      <th>King's Cup</th>\n",
              "      <th>Malta International Tournament</th>\n",
              "      <th>Oceania Nations Cup</th>\n",
              "      <th>SAFF Cup</th>\n",
              "      <th>UAFA Cup</th>\n",
              "      <th>UEFA Euro qualification</th>\n",
              "      <th>UNCAF Cup</th>\n",
              "      <th>United Arab Emirates Friendship Tournament</th>\n",
              "      <th>Viva World Cup</th>\n",
              "      <th>Windward Islands Tournament</th>\n",
              "    </tr>\n",
              "  </thead>\n",
              "  <tbody>\n",
              "    <tr>\n",
              "      <th>0</th>\n",
              "      <td>8</td>\n",
              "      <td>1</td>\n",
              "      <td>1</td>\n",
              "      <td>0</td>\n",
              "      <td>0</td>\n",
              "      <td>0</td>\n",
              "      <td>0</td>\n",
              "      <td>0</td>\n",
              "      <td>0</td>\n",
              "      <td>0</td>\n",
              "      <td>0</td>\n",
              "      <td>0</td>\n",
              "      <td>0</td>\n",
              "      <td>0</td>\n",
              "      <td>0</td>\n",
              "      <td>0</td>\n",
              "      <td>1</td>\n",
              "      <td>0</td>\n",
              "      <td>0</td>\n",
              "      <td>0</td>\n",
              "      <td>0</td>\n",
              "      <td>0</td>\n",
              "      <td>0</td>\n",
              "      <td>0</td>\n",
              "      <td>0</td>\n",
              "      <td>0</td>\n",
              "      <td>0</td>\n",
              "      <td>0</td>\n",
              "      <td>0</td>\n",
              "      <td>0</td>\n",
              "    </tr>\n",
              "    <tr>\n",
              "      <th>1</th>\n",
              "      <td>50</td>\n",
              "      <td>2</td>\n",
              "      <td>0</td>\n",
              "      <td>0</td>\n",
              "      <td>0</td>\n",
              "      <td>0</td>\n",
              "      <td>0</td>\n",
              "      <td>0</td>\n",
              "      <td>0</td>\n",
              "      <td>0</td>\n",
              "      <td>0</td>\n",
              "      <td>0</td>\n",
              "      <td>0</td>\n",
              "      <td>0</td>\n",
              "      <td>0</td>\n",
              "      <td>0</td>\n",
              "      <td>1</td>\n",
              "      <td>0</td>\n",
              "      <td>0</td>\n",
              "      <td>0</td>\n",
              "      <td>0</td>\n",
              "      <td>0</td>\n",
              "      <td>0</td>\n",
              "      <td>0</td>\n",
              "      <td>0</td>\n",
              "      <td>0</td>\n",
              "      <td>0</td>\n",
              "      <td>0</td>\n",
              "      <td>0</td>\n",
              "      <td>0</td>\n",
              "    </tr>\n",
              "    <tr>\n",
              "      <th>2</th>\n",
              "      <td>65</td>\n",
              "      <td>1</td>\n",
              "      <td>0</td>\n",
              "      <td>0</td>\n",
              "      <td>0</td>\n",
              "      <td>0</td>\n",
              "      <td>0</td>\n",
              "      <td>0</td>\n",
              "      <td>0</td>\n",
              "      <td>0</td>\n",
              "      <td>0</td>\n",
              "      <td>0</td>\n",
              "      <td>0</td>\n",
              "      <td>0</td>\n",
              "      <td>0</td>\n",
              "      <td>0</td>\n",
              "      <td>1</td>\n",
              "      <td>0</td>\n",
              "      <td>0</td>\n",
              "      <td>0</td>\n",
              "      <td>0</td>\n",
              "      <td>0</td>\n",
              "      <td>0</td>\n",
              "      <td>0</td>\n",
              "      <td>0</td>\n",
              "      <td>0</td>\n",
              "      <td>0</td>\n",
              "      <td>0</td>\n",
              "      <td>0</td>\n",
              "      <td>0</td>\n",
              "    </tr>\n",
              "    <tr>\n",
              "      <th>3</th>\n",
              "      <td>67</td>\n",
              "      <td>1</td>\n",
              "      <td>3</td>\n",
              "      <td>0</td>\n",
              "      <td>0</td>\n",
              "      <td>0</td>\n",
              "      <td>0</td>\n",
              "      <td>0</td>\n",
              "      <td>0</td>\n",
              "      <td>0</td>\n",
              "      <td>0</td>\n",
              "      <td>0</td>\n",
              "      <td>0</td>\n",
              "      <td>0</td>\n",
              "      <td>0</td>\n",
              "      <td>1</td>\n",
              "      <td>0</td>\n",
              "      <td>0</td>\n",
              "      <td>0</td>\n",
              "      <td>0</td>\n",
              "      <td>0</td>\n",
              "      <td>0</td>\n",
              "      <td>0</td>\n",
              "      <td>0</td>\n",
              "      <td>0</td>\n",
              "      <td>0</td>\n",
              "      <td>0</td>\n",
              "      <td>0</td>\n",
              "      <td>0</td>\n",
              "      <td>0</td>\n",
              "    </tr>\n",
              "    <tr>\n",
              "      <th>4</th>\n",
              "      <td>44</td>\n",
              "      <td>1</td>\n",
              "      <td>2</td>\n",
              "      <td>0</td>\n",
              "      <td>0</td>\n",
              "      <td>0</td>\n",
              "      <td>0</td>\n",
              "      <td>0</td>\n",
              "      <td>0</td>\n",
              "      <td>0</td>\n",
              "      <td>0</td>\n",
              "      <td>0</td>\n",
              "      <td>0</td>\n",
              "      <td>0</td>\n",
              "      <td>0</td>\n",
              "      <td>0</td>\n",
              "      <td>1</td>\n",
              "      <td>0</td>\n",
              "      <td>0</td>\n",
              "      <td>0</td>\n",
              "      <td>0</td>\n",
              "      <td>0</td>\n",
              "      <td>0</td>\n",
              "      <td>0</td>\n",
              "      <td>0</td>\n",
              "      <td>0</td>\n",
              "      <td>0</td>\n",
              "      <td>0</td>\n",
              "      <td>0</td>\n",
              "      <td>0</td>\n",
              "    </tr>\n",
              "  </tbody>\n",
              "</table>\n",
              "</div>"
            ],
            "text/plain": [
              "   rank  home_score  ...  Viva World Cup  Windward Islands Tournament\n",
              "0     8           1  ...               0                            0\n",
              "1    50           2  ...               0                            0\n",
              "2    65           1  ...               0                            0\n",
              "3    67           1  ...               0                            0\n",
              "4    44           1  ...               0                            0\n",
              "\n",
              "[5 rows x 30 columns]"
            ]
          },
          "metadata": {
            "tags": []
          },
          "execution_count": 301
        }
      ]
    },
    {
      "cell_type": "markdown",
      "metadata": {
        "id": "vTbdjSrhVIiT",
        "colab_type": "text"
      },
      "source": [
        "## 7. Implementing the Solution"
      ]
    },
    {
      "cell_type": "markdown",
      "metadata": {
        "id": "9AN02EH8FIbr",
        "colab_type": "text"
      },
      "source": [
        "### PolyNomial Approach"
      ]
    },
    {
      "cell_type": "code",
      "metadata": {
        "id": "Qh12ed8zFYtU",
        "colab_type": "code",
        "colab": {}
      },
      "source": [
        "from sklearn.model_selection import train_test_split\n",
        "from sklearn.linear_model import LinearRegression"
      ],
      "execution_count": null,
      "outputs": []
    },
    {
      "cell_type": "markdown",
      "metadata": {
        "id": "-P0DPwUmGZAS",
        "colab_type": "text"
      },
      "source": [
        "#### Model 1 \n",
        "##### **Predicting Home Scores**"
      ]
    },
    {
      "cell_type": "code",
      "metadata": {
        "id": "m_3PESJNFolA",
        "colab_type": "code",
        "colab": {}
      },
      "source": [
        "# Split the data into features and labels\n",
        "X = independent_var['rank'].values.reshape(-1,1)\n",
        "y = independent_var['home_score'].values\n"
      ],
      "execution_count": null,
      "outputs": []
    },
    {
      "cell_type": "code",
      "metadata": {
        "id": "_tnFY5mKt0ke",
        "colab_type": "code",
        "colab": {
          "base_uri": "https://localhost:8080/",
          "height": 296
        },
        "outputId": "3c270e02-a862-4cf2-bdbc-e21b58bec0a5"
      },
      "source": [
        "plt.scatter(X,y)\n",
        "plt.xlabel('Rank')\n",
        "plt.ylabel('Home Score')"
      ],
      "execution_count": null,
      "outputs": [
        {
          "output_type": "execute_result",
          "data": {
            "text/plain": [
              "Text(0, 0.5, 'Home Score')"
            ]
          },
          "metadata": {
            "tags": []
          },
          "execution_count": 304
        },
        {
          "output_type": "display_data",
          "data": {
            "image/png": "[encoded data removed]",
            "text/plain": [
              "<Figure size 432x288 with 1 Axes>"
            ]
          },
          "metadata": {
            "tags": [],
            "needs_background": "light"
          }
        }
      ]
    },
    {
      "cell_type": "code",
      "metadata": {
        "id": "9SKaXr94GytO",
        "colab_type": "code",
        "colab": {
          "base_uri": "https://localhost:8080/",
          "height": 34
        },
        "outputId": "552f4075-83c8-427f-c0f3-53bca9cdc090"
      },
      "source": [
        "# Fit the Independet Variables to a Polynomial \n",
        "from sklearn.preprocessing import PolynomialFeatures\n",
        "\n",
        "poly_reg = PolynomialFeatures(degree = 1)\n",
        "Xpoly = poly_reg.fit_transform(X)\n",
        "\n",
        "# Split into Training and Test\n",
        "X_train,X_test,y_train,y_test = train_test_split(Xpoly,y,test_size = 0.2)\n",
        "\n",
        "LinReg = LinearRegression()\n",
        "LinReg.fit( X_train, y_train)\n",
        "\n",
        "# Make Predictions\n",
        "y_pred = LinReg.predict(X_test)\n",
        "\n",
        "# Residuals\n",
        "residuals = np.subtract(y_pred,y_test)\n",
        "# Calculate RMSE\n",
        "from sklearn import metrics\n",
        "RMSE = np.sqrt(metrics.mean_squared_error(y_test,y_pred))\n",
        "RMSE"
      ],
      "execution_count": null,
      "outputs": [
        {
          "output_type": "execute_result",
          "data": {
            "text/plain": [
              "1.2222261148480729"
            ]
          },
          "metadata": {
            "tags": []
          },
          "execution_count": 305
        }
      ]
    },
    {
      "cell_type": "markdown",
      "metadata": {
        "id": "lco0zUlZTe3O",
        "colab_type": "text"
      },
      "source": [
        "**Cross Validation**"
      ]
    },
    {
      "cell_type": "code",
      "metadata": {
        "id": "yQF-GGa0Ti7P",
        "colab_type": "code",
        "colab": {
          "base_uri": "https://localhost:8080/",
          "height": 374
        },
        "outputId": "4178cc89-b02d-4349-c3a4-e6378fcace4d"
      },
      "source": [
        "from sklearn.model_selection import KFold\n",
        "\n",
        "X = independent_var['rank'].values.reshape(-1,1)\n",
        "y = independent_var['home_score'].values\n",
        "\n",
        "folds = KFold(n_splits = 10)\n",
        "\n",
        "print(\"We are using\",str(folds.get_n_splits(X)),'folds')\n",
        "\n",
        "RMSE = []\n",
        "count = 1\n",
        "for train_index,test_index in folds.split(X):\n",
        "  print(\"Training Model\", str(count))\n",
        "\n",
        "  poly_reg = PolynomialFeatures(degree = 1)\n",
        "  X_poly = poly_reg.fit_transform(X)\n",
        "\n",
        "  X_train,X_test = X_poly[train_index],X_poly[test_index]\n",
        "  y_train,y_test = y[train_index],y[test_index]\n",
        "\n",
        "  LinReg = LinearRegression()\n",
        "  LinReg.fit( X_train, y_train)\n",
        "\n",
        "  # Make Predictions\n",
        "  y_pred = LinReg.predict(X_test)\n",
        "\n",
        "  # Calculate RMSE\n",
        "  rmse = np.sqrt(metrics.mean_squared_error(y_test,y_pred))\n",
        "  RMSE.append(rmse)\n",
        "\n",
        "  print(\"Model\",str(count),\"has a RMSE of \", rmse)\n",
        "  count = count + 1"
      ],
      "execution_count": null,
      "outputs": [
        {
          "output_type": "stream",
          "text": [
            "We are using 10 folds\n",
            "Training Model 1\n",
            "Model 1 has a RMSE of  1.2563620448876585\n",
            "Training Model 2\n",
            "Model 2 has a RMSE of  1.3666036251486688\n",
            "Training Model 3\n",
            "Model 3 has a RMSE of  1.2114461826832166\n",
            "Training Model 4\n",
            "Model 4 has a RMSE of  1.1162354340957807\n",
            "Training Model 5\n",
            "Model 5 has a RMSE of  1.4169650878333044\n",
            "Training Model 6\n",
            "Model 6 has a RMSE of  0.9972224879186633\n",
            "Training Model 7\n",
            "Model 7 has a RMSE of  1.1623106728435175\n",
            "Training Model 8\n",
            "Model 8 has a RMSE of  1.1969327213903471\n",
            "Training Model 9\n",
            "Model 9 has a RMSE of  1.0915962791432257\n",
            "Training Model 10\n",
            "Model 10 has a RMSE of  1.3744674919020146\n"
          ],
          "name": "stdout"
        }
      ]
    },
    {
      "cell_type": "code",
      "metadata": {
        "id": "fHtB8VGCWHoq",
        "colab_type": "code",
        "colab": {
          "base_uri": "https://localhost:8080/",
          "height": 51
        },
        "outputId": "78a1be99-abeb-494a-812a-eabd8f5f04d4"
      },
      "source": [
        "from sklearn.model_selection import LeaveOneOut\n",
        "\n",
        "folds = LeaveOneOut()\n",
        "\n",
        "print('we are using ' +str(folds.get_n_splits(X)) + ' folds')\n",
        "\n",
        "RMSES = []\n",
        "count = 0 \n",
        "for train_index, test_index in folds.split(X):\n",
        "  poly_reg = PolynomialFeatures(degree = 1)\n",
        "  X_poly = poly_reg.fit_transform(X)\n",
        "\n",
        "  X_train,X_test = X_poly[train_index],X_poly[test_index]\n",
        "  y_train,y_test = y[train_index],y[test_index]\n",
        "\n",
        "  LinReg = LinearRegression()\n",
        "  LinReg.fit( X_train, y_train)\n",
        "\n",
        "  # Make Predictions\n",
        "  y_pred = LinReg.predict(X_test)\n",
        "\n",
        "  # Calculate RMSE\n",
        "  rmse = np.sqrt(metrics.mean_squared_error(y_test,y_pred))\n",
        "  RMSE.append(rmse)\n",
        "\n",
        "  count = count + 1\n",
        "print(\"We have trained\",str(count),\" models with the mean of RMSE as \",np.mean(RMSE) )\n"
      ],
      "execution_count": null,
      "outputs": [
        {
          "output_type": "stream",
          "text": [
            "we are using 703 folds\n",
            "We have trained 703  models with the mean of RMSE as  0.9940351146902844\n"
          ],
          "name": "stdout"
        }
      ]
    },
    {
      "cell_type": "markdown",
      "metadata": {
        "id": "Awo6wO_-XMfM",
        "colab_type": "text"
      },
      "source": [
        "Model 6 has the lowest value for RMSE of 0.9972224879186633, therefore we will pick it for an optimal model"
      ]
    },
    {
      "cell_type": "markdown",
      "metadata": {
        "id": "gk6KbHqeXsWq",
        "colab_type": "text"
      },
      "source": [
        "**Heteroscedasticity**"
      ]
    },
    {
      "cell_type": "code",
      "metadata": {
        "id": "WGxbZYcRXpv_",
        "colab_type": "code",
        "colab": {
          "base_uri": "https://localhost:8080/",
          "height": 153
        },
        "outputId": "b74a6940-c296-4512-e12c-c0b3e2a51f9e"
      },
      "source": [
        "# Testing Heteroscedacity using the Bartletts Test\n",
        "\n",
        "import scipy as sp\n",
        "\n",
        "test_result, p_value = sp.stats.bartlett(y_pred, residuals)\n",
        "\n",
        "# To interpret the results we must also compute a critical value of the chi squared distribution\n",
        "degree_of_freedom = len(y_pred)-1\n",
        "probability = 1 - p_value\n",
        "\n",
        "critical_value = sp.stats.chi2.ppf(probability, degree_of_freedom)\n",
        "print(critical_value)\n",
        "\n",
        "if (test_result > critical_value):\n",
        "  print('the variances are unequal, and the model should be reassessed')\n",
        "else:\n",
        "  print('the variances are homogeneous!')\n"
      ],
      "execution_count": null,
      "outputs": [
        {
          "output_type": "stream",
          "text": [
            "nan\n",
            "the variances are homogeneous!\n"
          ],
          "name": "stdout"
        },
        {
          "output_type": "stream",
          "text": [
            "/usr/local/lib/python3.6/dist-packages/numpy/core/fromnumeric.py:3584: RuntimeWarning: Degrees of freedom <= 0 for slice\n",
            "  **kwargs)\n",
            "/usr/local/lib/python3.6/dist-packages/numpy/core/_methods.py:209: RuntimeWarning: invalid value encountered in double_scalars\n",
            "  ret = ret.dtype.type(ret / rcount)\n",
            "/usr/local/lib/python3.6/dist-packages/scipy/stats/morestats.py:2242: RuntimeWarning: divide by zero encountered in true_divide\n",
            "  denom = 1.0 + 1.0/(3*(k - 1)) * ((np.sum(1.0/(Ni - 1.0), axis=0)) -\n"
          ],
          "name": "stderr"
        }
      ]
    },
    {
      "cell_type": "markdown",
      "metadata": {
        "id": "kEctMJuKQ3Nm",
        "colab_type": "text"
      },
      "source": [
        "**Using MultiLinear Regression for Tournament Type**"
      ]
    },
    {
      "cell_type": "code",
      "metadata": {
        "id": "NsbSjEVtLLy5",
        "colab_type": "code",
        "colab": {
          "base_uri": "https://localhost:8080/",
          "height": 34
        },
        "outputId": "00f72314-813d-4948-d2eb-8aa847d78217"
      },
      "source": [
        "# Predicting Home Score using the tournament type\n",
        "X = independent_var.iloc[:,3:].values\n",
        "y = independent_var['home_score'].values\n",
        "\n",
        "\n",
        "# Split the Data  to train and test\n",
        "T_train,T_test,h_train,h_test = train_test_split(X,y, test_size=0.3)\n",
        "\n",
        "# Train the Data\n",
        "LinReg.fit(T_train,h_train)\n",
        "\n",
        "# Make Predictions\n",
        "h_pred = LinReg.predict(T_test)\n",
        "\n",
        "#Residuals\n",
        "res = np.subtract(h_pred, h_test)\n",
        "# Evaluate the Model\n",
        "RMSE = np.sqrt(metrics.mean_squared_error(h_test,h_pred))\n",
        "RMSE"
      ],
      "execution_count": null,
      "outputs": [
        {
          "output_type": "execute_result",
          "data": {
            "text/plain": [
              "2346354634349.723"
            ]
          },
          "metadata": {
            "tags": []
          },
          "execution_count": 309
        }
      ]
    },
    {
      "cell_type": "markdown",
      "metadata": {
        "id": "Sd58RcCYca_6",
        "colab_type": "text"
      },
      "source": [
        "**Cross Validation**"
      ]
    },
    {
      "cell_type": "code",
      "metadata": {
        "id": "5EkHfVS6cack",
        "colab_type": "code",
        "colab": {
          "base_uri": "https://localhost:8080/",
          "height": 578
        },
        "outputId": "07332b36-7be7-4414-ef86-ebdbff5bd0bd"
      },
      "source": [
        "X = independent_var.iloc[:,3:].values\n",
        "y = independent_var['home_score'].values\n",
        "\n",
        "folds = KFold(n_splits = 15)\n",
        "\n",
        "print(\"We are using\",str(folds.get_n_splits(X)),'folds')\n",
        "\n",
        "RMSE = []\n",
        "count = 1\n",
        "for train_index,test_index in folds.split(X):\n",
        "  print(\"Training Model\", str(count))\n",
        "\n",
        "  T_train,T_test = X[train_index],X[test_index]\n",
        "  h_train,h_test = y[train_index],y[test_index]\n",
        "\n",
        "  # Train the Data\n",
        "  LinReg.fit(T_train,h_train)\n",
        "\n",
        "  # Make Predictions\n",
        "  h_pred = LinReg.predict(T_test)\n",
        "\n",
        "\n",
        "  # Calculate RMSE\n",
        "  rmse = np.sqrt(metrics.mean_squared_error(h_test,h_pred))\n",
        "  RMSE.append(rmse)\n",
        "\n",
        "  print(\"Model\",str(count),\"has a RMSE of \", rmse)\n",
        "  count = count + 1\n",
        "\n",
        "print(\"******************************\")\n",
        "print(\"The mean RMSE score is\",np.mean(RMSE))"
      ],
      "execution_count": null,
      "outputs": [
        {
          "output_type": "stream",
          "text": [
            "We are using 15 folds\n",
            "Training Model 1\n",
            "Model 1 has a RMSE of  1.2732595352035572\n",
            "Training Model 2\n",
            "Model 2 has a RMSE of  1.4677573635034167\n",
            "Training Model 3\n",
            "Model 3 has a RMSE of  1.285787554650167\n",
            "Training Model 4\n",
            "Model 4 has a RMSE of  1.2210446559045467\n",
            "Training Model 5\n",
            "Model 5 has a RMSE of  1.3912967970864836\n",
            "Training Model 6\n",
            "Model 6 has a RMSE of  1.0227234794959854\n",
            "Training Model 7\n",
            "Model 7 has a RMSE of  1.2882213896281447\n",
            "Training Model 8\n",
            "Model 8 has a RMSE of  1.6078096559440718\n",
            "Training Model 9\n",
            "Model 9 has a RMSE of  1.0023465288709885\n",
            "Training Model 10\n",
            "Model 10 has a RMSE of  5124289637538.905\n",
            "Training Model 11\n",
            "Model 11 has a RMSE of  1.2133250550447388\n",
            "Training Model 12\n",
            "Model 12 has a RMSE of  1.3129486178623748\n",
            "Training Model 13\n",
            "Model 13 has a RMSE of  1.0788372836493423\n",
            "Training Model 14\n",
            "Model 14 has a RMSE of  1.1154458223893906\n",
            "Training Model 15\n",
            "Model 15 has a RMSE of  1.5590882206181924\n",
            "******************************\n",
            "The mean RMSE score is 341619309170.44965\n"
          ],
          "name": "stdout"
        }
      ]
    },
    {
      "cell_type": "code",
      "metadata": {
        "id": "B5fnZYQ9dPqW",
        "colab_type": "code",
        "colab": {
          "base_uri": "https://localhost:8080/",
          "height": 51
        },
        "outputId": "b9c62c99-1ccf-4c09-da5a-9953cd6deffa"
      },
      "source": [
        "# Checking for the best RMSE score our model can give\n",
        "\n",
        "folds = LeaveOneOut()\n",
        "\n",
        "print(\"We are using\",str(folds.get_n_splits(X)),'folds')\n",
        "\n",
        "RMSE = []\n",
        "count = 0\n",
        "for train_index,test_index in folds.split(X):\n",
        "  \n",
        "  T_train,T_test = X[train_index],X[test_index]\n",
        "  h_train,h_test = y[train_index],y[test_index]\n",
        "\n",
        "  # Train the Data\n",
        "  LinReg.fit(T_train,h_train)\n",
        "\n",
        "  # Make Predictions\n",
        "  h_pred = LinReg.predict(T_test)\n",
        "\n",
        "\n",
        "  # Calculate RMSE\n",
        "  rmse = np.sqrt(metrics.mean_squared_error(h_test,h_pred))\n",
        "  RMSE.append(rmse)\n",
        "\n",
        "  count = count + 1\n",
        "\n",
        "print(\"We have trained\",str(count),\"models with a RMSE of \", np.mean(RMSE))\n"
      ],
      "execution_count": null,
      "outputs": [
        {
          "output_type": "stream",
          "text": [
            "We are using 703 folds\n",
            "We have trained 703 models with a RMSE of  1.0272323256201357\n"
          ],
          "name": "stdout"
        }
      ]
    },
    {
      "cell_type": "markdown",
      "metadata": {
        "id": "topmf4wjebGe",
        "colab_type": "text"
      },
      "source": [
        "Model 6 has the lowest value for RMSE which is 1.0227234794959854 that approximately equal to the mean RMSE from LeaveOneOut.\n",
        "This Model 6 would be the optimal model to use for making predictions"
      ]
    },
    {
      "cell_type": "markdown",
      "metadata": {
        "id": "QhFTUsSOfNpY",
        "colab_type": "text"
      },
      "source": [
        "**Heteroscedasticity** \n"
      ]
    },
    {
      "cell_type": "code",
      "metadata": {
        "id": "s5upu6q5fbdi",
        "colab_type": "code",
        "colab": {
          "base_uri": "https://localhost:8080/",
          "height": 153
        },
        "outputId": "fea7f5b6-638e-4fe0-d5cf-01b004d7fd0c"
      },
      "source": [
        "\n",
        "test_result, p_value = sp.stats.bartlett(h_pred, res)\n",
        "\n",
        "# To interpret the results we must also compute a critical value of the chi squared distribution\n",
        "degree_of_freedom = len(h_pred)-1\n",
        "probability = 1 - p_value\n",
        "\n",
        "critical_value = sp.stats.chi2.ppf(probability, degree_of_freedom)\n",
        "print(critical_value)\n",
        "\n",
        "# If the test_result is greater than the critical value, then we reject our null\n",
        "# hypothesis. This would mean that there are patterns to the variance of the data\n",
        "\n",
        "# Otherwise, we can identify no patterns, and we accept the null hypothesis that \n",
        "# the variance is homogeneous across our data\n",
        "\n",
        "if (test_result > critical_value):\n",
        "  print('the variances are unequal, and the model should be reassessed')\n",
        "else:\n",
        "  print('the variances are homogeneous!')\n"
      ],
      "execution_count": null,
      "outputs": [
        {
          "output_type": "stream",
          "text": [
            "nan\n",
            "the variances are homogeneous!\n"
          ],
          "name": "stdout"
        },
        {
          "output_type": "stream",
          "text": [
            "/usr/local/lib/python3.6/dist-packages/numpy/core/fromnumeric.py:3584: RuntimeWarning: Degrees of freedom <= 0 for slice\n",
            "  **kwargs)\n",
            "/usr/local/lib/python3.6/dist-packages/numpy/core/_methods.py:209: RuntimeWarning: invalid value encountered in double_scalars\n",
            "  ret = ret.dtype.type(ret / rcount)\n",
            "/usr/local/lib/python3.6/dist-packages/scipy/stats/morestats.py:2242: RuntimeWarning: divide by zero encountered in true_divide\n",
            "  denom = 1.0 + 1.0/(3*(k - 1)) * ((np.sum(1.0/(Ni - 1.0), axis=0)) -\n"
          ],
          "name": "stderr"
        }
      ]
    },
    {
      "cell_type": "markdown",
      "metadata": {
        "id": "UWCgt6XMgYSr",
        "colab_type": "text"
      },
      "source": [
        "#### Model 2\n",
        "\n",
        "##### **Predicting the Away Score**"
      ]
    },
    {
      "cell_type": "code",
      "metadata": {
        "id": "LgY42YVZi2zS",
        "colab_type": "code",
        "colab": {}
      },
      "source": [
        "# Features and Labels\n",
        "X = independent_var['rank'].values.reshape(-1,1)\n",
        "y = independent_var['away_score'].values\n"
      ],
      "execution_count": null,
      "outputs": []
    },
    {
      "cell_type": "code",
      "metadata": {
        "id": "LhsJovttjA6O",
        "colab_type": "code",
        "colab": {
          "base_uri": "https://localhost:8080/",
          "height": 34
        },
        "outputId": "7ff16448-e095-4966-cadb-d2087cd9c246"
      },
      "source": [
        "poly_reg = PolynomialFeatures(degree = 5)\n",
        "X_poly = poly_reg.fit_transform(X)\n",
        "\n",
        "X_train,X_test = X_poly[train_index],X_poly[test_index]\n",
        "y_train,y_test = y[train_index],y[test_index]\n",
        "\n",
        "#Fit to a Linear Regression\n",
        "LinReg.fit(X_train,y_train)\n",
        "\n",
        "#Make Predictions\n",
        "y_pred = LinReg.predict(X_test)\n",
        "\n",
        "#Residuals\n",
        "res1 = np.subtract(y_pred,y_test)\n",
        "\n",
        "#Calculate RMSE\n",
        "rmse = np.sqrt(metrics.mean_squared_error(y_test,y_pred))\n",
        "rmse"
      ],
      "execution_count": null,
      "outputs": [
        {
          "output_type": "execute_result",
          "data": {
            "text/plain": [
              "0.9045852662991984"
            ]
          },
          "metadata": {
            "tags": []
          },
          "execution_count": 314
        }
      ]
    },
    {
      "cell_type": "markdown",
      "metadata": {
        "id": "rCOMXNC7k6o4",
        "colab_type": "text"
      },
      "source": [
        "**Cross Validation**"
      ]
    },
    {
      "cell_type": "code",
      "metadata": {
        "id": "X6shksINgW_3",
        "colab_type": "code",
        "colab": {
          "base_uri": "https://localhost:8080/",
          "height": 714
        },
        "outputId": "f3aa6a81-05e8-4f71-d0e2-16a5c31eb0db"
      },
      "source": [
        "\n",
        "folds = KFold(n_splits=20)\n",
        "\n",
        "print(\"We are using\",str(folds.get_n_splits(X)),'folds')\n",
        "\n",
        "RMSE = []\n",
        "count = 1\n",
        "for train_index,test_index in folds.split(X):\n",
        "  print(\"Training Model\",str(count))\n",
        "\n",
        "  poly_reg = PolynomialFeatures(degree = 5)\n",
        "  X_poly = poly_reg.fit_transform(X)\n",
        "\n",
        "  X_train,X_test = X_poly[train_index],X_poly[test_index]\n",
        "  y_train,y_test = y[train_index],y[test_index]\n",
        "\n",
        "  #Fit to a Linear Regression\n",
        "  LinReg.fit(X_train,y_train)\n",
        "\n",
        "  #Make Predictions\n",
        "  y_pred = LinReg.predict(X_test)\n",
        "\n",
        "  #RMSE\n",
        "  rmse = np.sqrt(metrics.mean_squared_error(y_test,y_pred))\n",
        "  RMSE.append(rmse)\n",
        "\n",
        "  print(\"Model\",str(count),'has a RMSE of',rmse)\n",
        "  count = count+1"
      ],
      "execution_count": null,
      "outputs": [
        {
          "output_type": "stream",
          "text": [
            "We are using 20 folds\n",
            "Training Model 1\n",
            "Model 1 has a RMSE of 1.2103210458304337\n",
            "Training Model 2\n",
            "Model 2 has a RMSE of 1.212991699891712\n",
            "Training Model 3\n",
            "Model 3 has a RMSE of 0.8949466982058015\n",
            "Training Model 4\n",
            "Model 4 has a RMSE of 1.0653520148507336\n",
            "Training Model 5\n",
            "Model 5 has a RMSE of 0.8090745989449029\n",
            "Training Model 6\n",
            "Model 6 has a RMSE of 1.2739248847947937\n",
            "Training Model 7\n",
            "Model 7 has a RMSE of 1.3088950570799365\n",
            "Training Model 8\n",
            "Model 8 has a RMSE of 1.160144171409613\n",
            "Training Model 9\n",
            "Model 9 has a RMSE of 1.0161361606709325\n",
            "Training Model 10\n",
            "Model 10 has a RMSE of 1.1332162398205468\n",
            "Training Model 11\n",
            "Model 11 has a RMSE of 0.8960148842946609\n",
            "Training Model 12\n",
            "Model 12 has a RMSE of 1.1086485961700554\n",
            "Training Model 13\n",
            "Model 13 has a RMSE of 1.4511528594269965\n",
            "Training Model 14\n",
            "Model 14 has a RMSE of 0.8704114235721392\n",
            "Training Model 15\n",
            "Model 15 has a RMSE of 0.9226041065184998\n",
            "Training Model 16\n",
            "Model 16 has a RMSE of 0.8933603785050676\n",
            "Training Model 17\n",
            "Model 17 has a RMSE of 0.8413929531327372\n",
            "Training Model 18\n",
            "Model 18 has a RMSE of 0.9486534064681692\n",
            "Training Model 19\n",
            "Model 19 has a RMSE of 1.0376817274856411\n",
            "Training Model 20\n",
            "Model 20 has a RMSE of 1.0953714216169614\n"
          ],
          "name": "stdout"
        }
      ]
    },
    {
      "cell_type": "code",
      "metadata": {
        "id": "j5QUJH5LgTeW",
        "colab_type": "code",
        "colab": {
          "base_uri": "https://localhost:8080/",
          "height": 51
        },
        "outputId": "9bfcf287-3b2f-45a0-a9f6-bd23ab992fd6"
      },
      "source": [
        "folds = LeaveOneOut()\n",
        "\n",
        "print(\"We are using\",str(folds.get_n_splits(X)),'folds')\n",
        "\n",
        "RMSE = []\n",
        "count = 0\n",
        "for train_index,test_index in folds.split(X):\n",
        "  poly_reg = PolynomialFeatures(degree = 3)\n",
        "  X_poly = poly_reg.fit_transform(X)\n",
        "\n",
        "  X_train,X_test = X_poly[train_index],X_poly[test_index]\n",
        "  y_train,y_test = y[train_index],y[test_index]\n",
        "\n",
        "  #Fit to a Linear Regression\n",
        "  LinReg.fit(X_train,y_train)\n",
        "\n",
        "  #Make Predictions\n",
        "  y_pred = LinReg.predict(X_test)\n",
        "\n",
        "  #RMSE\n",
        "  rmse = np.sqrt(metrics.mean_squared_error(y_test,y_pred))\n",
        "  RMSE.append(rmse)\n",
        "\n",
        "  count = count+1\n",
        "\n",
        "print(\"We are using\",str(count),' models with RMSE of',np.mean(RMSE))\n"
      ],
      "execution_count": null,
      "outputs": [
        {
          "output_type": "stream",
          "text": [
            "We are using 703 folds\n",
            "We are using 703  models with RMSE of 0.8179101186892772\n"
          ],
          "name": "stdout"
        }
      ]
    },
    {
      "cell_type": "markdown",
      "metadata": {
        "id": "PUPHoJ9PmNGa",
        "colab_type": "text"
      },
      "source": [
        "Model 5 has the RMSE value 0.8090745989449029 which close to the mean RMSE for the model using LeaveOneOut. \n",
        "Therefore Model 5 is the optimal model to use for making prediction"
      ]
    },
    {
      "cell_type": "markdown",
      "metadata": {
        "id": "zdYVyfKbmvMu",
        "colab_type": "text"
      },
      "source": [
        "**Heteroskedacity**"
      ]
    },
    {
      "cell_type": "code",
      "metadata": {
        "id": "YlZ0hswumpSN",
        "colab_type": "code",
        "colab": {
          "base_uri": "https://localhost:8080/",
          "height": 221
        },
        "outputId": "d3a71ca7-b6d6-4daf-f410-b575af27d00b"
      },
      "source": [
        "test_result, p_value = sp.stats.bartlett(y_pred, res1)\n",
        "\n",
        "# To interpret the results we must also compute a critical value of the chi squared distribution\n",
        "degree_of_freedom = len(y_pred)-1\n",
        "probability = 1 - p_value\n",
        "\n",
        "critical_value = sp.stats.chi2.ppf(probability, degree_of_freedom)\n",
        "print(critical_value)\n",
        "\n",
        "# If the test_result is greater than the critical value, then we reject our null\n",
        "# hypothesis. This would mean that there are patterns to the variance of the data\n",
        "\n",
        "# Otherwise, we can identify no patterns, and we accept the null hypothesis that \n",
        "# the variance is homogeneous across our data\n",
        "\n",
        "if (test_result > critical_value):\n",
        "  print('the variances are unequal, and the model should be reassessed')\n",
        "else:\n",
        "  print('the variances are homogeneous!')\n"
      ],
      "execution_count": null,
      "outputs": [
        {
          "output_type": "stream",
          "text": [
            "nan\n",
            "the variances are homogeneous!\n"
          ],
          "name": "stdout"
        },
        {
          "output_type": "stream",
          "text": [
            "/usr/local/lib/python3.6/dist-packages/numpy/core/fromnumeric.py:3584: RuntimeWarning: Degrees of freedom <= 0 for slice\n",
            "  **kwargs)\n",
            "/usr/local/lib/python3.6/dist-packages/numpy/core/_methods.py:209: RuntimeWarning: invalid value encountered in double_scalars\n",
            "  ret = ret.dtype.type(ret / rcount)\n",
            "/usr/local/lib/python3.6/dist-packages/scipy/stats/morestats.py:2242: RuntimeWarning: divide by zero encountered in true_divide\n",
            "  denom = 1.0 + 1.0/(3*(k - 1)) * ((np.sum(1.0/(Ni - 1.0), axis=0)) -\n",
            "/usr/local/lib/python3.6/dist-packages/scipy/stats/morestats.py:2243: RuntimeWarning: divide by zero encountered in double_scalars\n",
            "  1.0/(Ntot - k))\n",
            "/usr/local/lib/python3.6/dist-packages/scipy/stats/morestats.py:2243: RuntimeWarning: invalid value encountered in double_scalars\n",
            "  1.0/(Ntot - k))\n"
          ],
          "name": "stderr"
        }
      ]
    },
    {
      "cell_type": "markdown",
      "metadata": {
        "id": "fjQ3VlHtneUL",
        "colab_type": "text"
      },
      "source": [
        "**MultiLinear Regression using Tournament**"
      ]
    },
    {
      "cell_type": "code",
      "metadata": {
        "id": "6UtpYVL2ndr1",
        "colab_type": "code",
        "colab": {
          "base_uri": "https://localhost:8080/",
          "height": 34
        },
        "outputId": "ee5fd40c-cfc2-4bb8-bf69-4c598ab92079"
      },
      "source": [
        "X = independent_var.iloc[:,3:].values\n",
        "y = independent_var['away_score'].values\n",
        "\n",
        "#Split the data to train and test\n",
        "T_Train,T_Test,a_train,a_test = train_test_split(X,y,test_size=0.2)\n",
        "\n",
        "#Train the data\n",
        "LinReg.fit(T_Train,a_train)\n",
        "\n",
        "#Make prediction\n",
        "a_pred = LinReg.predict(T_Test)\n",
        "\n",
        "#residuals\n",
        "res3 = np.subtract(a_pred, a_test)\n",
        "\n",
        "#Calculate the RMSE\n",
        "print(\"The RMSE is : \",np.sqrt(metrics.mean_squared_error(a_test,a_pred)))\n"
      ],
      "execution_count": null,
      "outputs": [
        {
          "output_type": "stream",
          "text": [
            "The RMSE is :  1.1746869172346774\n"
          ],
          "name": "stdout"
        }
      ]
    },
    {
      "cell_type": "code",
      "metadata": {
        "id": "Ge-nJz8rpCQF",
        "colab_type": "code",
        "colab": {
          "base_uri": "https://localhost:8080/",
          "height": 578
        },
        "outputId": "cb8ea4fa-9851-407d-d09c-909c37a6eb4f"
      },
      "source": [
        "X = independent_var.iloc[:,3:].values\n",
        "y = independent_var['away_score'].values\n",
        "\n",
        "folds = KFold(n_splits= 15)\n",
        "\n",
        "print(\"We are using\",str(folds.get_n_splits(X)),'folds')\n",
        "\n",
        "RMSE = []\n",
        "count = 1\n",
        "\n",
        "for train,test in folds.split(X):\n",
        "  print('Training Model', str(count))\n",
        "\n",
        "  T_Train,T_Test = X[train],X[test]\n",
        "  a_train,a_test = y[train],y[test]\n",
        "\n",
        "  #Train the data\n",
        "  LinReg.fit(T_Train,a_train)\n",
        "\n",
        "  #Make prediction\n",
        "  a_pred = LinReg.predict(T_Test)\n",
        "\n",
        "  #Calculate the RMSE\n",
        "  rmse = np.sqrt(metrics.mean_squared_error(a_test,a_pred))\n",
        "  RMSE.append(rmse)\n",
        "\n",
        "  print(\"Model has RMSE of\", rmse)\n",
        "  count += 1\n",
        "print('***************************')\n",
        "print(\"The mean RMSE is:\",np.mean(RMSE))"
      ],
      "execution_count": null,
      "outputs": [
        {
          "output_type": "stream",
          "text": [
            "We are using 15 folds\n",
            "Training Model 1\n",
            "Model has RMSE of 1.200711094321694\n",
            "Training Model 2\n",
            "Model has RMSE of 1.2004968575267303\n",
            "Training Model 3\n",
            "Model has RMSE of 1.037213355117564\n",
            "Training Model 4\n",
            "Model has RMSE of 0.7630791434948789\n",
            "Training Model 5\n",
            "Model has RMSE of 1.2026065174833274\n",
            "Training Model 6\n",
            "Model has RMSE of 1.4352175763597923\n",
            "Training Model 7\n",
            "Model has RMSE of 1.0408370010339987\n",
            "Training Model 8\n",
            "Model has RMSE of 1.0766863859926228\n",
            "Training Model 9\n",
            "Model has RMSE of 1.0574258411092827\n",
            "Training Model 10\n",
            "Model has RMSE of 3458902764916.6523\n",
            "Training Model 11\n",
            "Model has RMSE of 1.1961014943833885\n",
            "Training Model 12\n",
            "Model has RMSE of 0.893834350300483\n",
            "Training Model 13\n",
            "Model has RMSE of 0.8498735503117488\n",
            "Training Model 14\n",
            "Model has RMSE of 1.1674723029497254\n",
            "Training Model 15\n",
            "Model has RMSE of 0.9387224703428539\n",
            "***************************\n",
            "The mean RMSE is: 230593517662.11423\n"
          ],
          "name": "stdout"
        }
      ]
    },
    {
      "cell_type": "code",
      "metadata": {
        "id": "AfXtHbxiuzCA",
        "colab_type": "code",
        "colab": {
          "base_uri": "https://localhost:8080/",
          "height": 51
        },
        "outputId": "62754aa7-c803-4754-829e-07dda4d8c022"
      },
      "source": [
        "#Checking for the lowest RMSE score for the model\n",
        "\n",
        "folds = LeaveOneOut()\n",
        "\n",
        "print(\"We are using\",str(folds.get_n_splits(X)),'folds')\n",
        "\n",
        "RMSE = []\n",
        "count = 0\n",
        "\n",
        "for train,test in folds.split(X):\n",
        "  T_Train,T_Test = X[train],X[test]\n",
        "  a_train,a_test = y[train],y[test]\n",
        "\n",
        "  #Train the data\n",
        "  LinReg.fit(T_Train,a_train)\n",
        "\n",
        "  #Make prediction\n",
        "  a_pred = LinReg.predict(T_Test)\n",
        "\n",
        "  #Calculate the RMSE\n",
        "  rmse = np.sqrt(metrics.mean_squared_error(a_test,a_pred))\n",
        "  RMSE.append(rmse)\n",
        "\n",
        "  count += 1\n",
        "\n",
        "print(str(count),\"Models have been trained with a mean RMSE of\", np.mean(RMSE))\n"
      ],
      "execution_count": null,
      "outputs": [
        {
          "output_type": "stream",
          "text": [
            "We are using 703 folds\n",
            "703 Models have been trained with a mean RMSE of 0.8222779296421733\n"
          ],
          "name": "stdout"
        }
      ]
    },
    {
      "cell_type": "markdown",
      "metadata": {
        "id": "O9BabxcCvrlJ",
        "colab_type": "text"
      },
      "source": [
        "Model 13 has a RMSE of 0.8498735503117488 which close to the mean RMSE of the model when we train each data point in the model which is 0.8222779296421733.\n",
        "\n",
        "While using Tournament type to make predictions on the Away Score we can use Model 13 to make predictions because it is the optimal model"
      ]
    },
    {
      "cell_type": "markdown",
      "metadata": {
        "id": "vWkbQ2x7wQem",
        "colab_type": "text"
      },
      "source": [
        "**Heteroscadicity**"
      ]
    },
    {
      "cell_type": "code",
      "metadata": {
        "id": "_GNDtelLwQJP",
        "colab_type": "code",
        "colab": {
          "base_uri": "https://localhost:8080/",
          "height": 153
        },
        "outputId": "caef9e2a-4d3d-4c9c-c4fe-ff0a048e4480"
      },
      "source": [
        "# Using Bartlett's test\n",
        "test_result, p_value = sp.stats.bartlett(a_pred, res3)\n",
        "\n",
        "# To interpret the results we must also compute a critical value of the chi squared distribution\n",
        "degree_of_freedom = len(a_pred)-1\n",
        "probability = 1 - p_value\n",
        "\n",
        "critical_value = sp.stats.chi2.ppf(probability, degree_of_freedom)\n",
        "print(critical_value)\n",
        "\n",
        "# If the test_result is greater than the critical value, then we reject our null\n",
        "# hypothesis. This would mean that there are patterns to the variance of the data\n",
        "\n",
        "# Otherwise, we can identify no patterns, and we accept the null hypothesis that \n",
        "# the variance is homogeneous across our data\n",
        "\n",
        "if (test_result > critical_value):\n",
        "  print('the variances are unequal, and the model should be reassessed')\n",
        "else:\n",
        "  print('the variances are homogeneous!')"
      ],
      "execution_count": null,
      "outputs": [
        {
          "output_type": "stream",
          "text": [
            "nan\n",
            "the variances are homogeneous!\n"
          ],
          "name": "stdout"
        },
        {
          "output_type": "stream",
          "text": [
            "/usr/local/lib/python3.6/dist-packages/numpy/core/fromnumeric.py:3584: RuntimeWarning: Degrees of freedom <= 0 for slice\n",
            "  **kwargs)\n",
            "/usr/local/lib/python3.6/dist-packages/numpy/core/_methods.py:209: RuntimeWarning: invalid value encountered in double_scalars\n",
            "  ret = ret.dtype.type(ret / rcount)\n",
            "/usr/local/lib/python3.6/dist-packages/scipy/stats/morestats.py:2242: RuntimeWarning: divide by zero encountered in true_divide\n",
            "  denom = 1.0 + 1.0/(3*(k - 1)) * ((np.sum(1.0/(Ni - 1.0), axis=0)) -\n"
          ],
          "name": "stderr"
        }
      ]
    },
    {
      "cell_type": "markdown",
      "metadata": {
        "id": "ClCvHVBlweeC",
        "colab_type": "text"
      },
      "source": [
        "There are no patterns that can be Identified meaning there is Independence between our Independent variables"
      ]
    },
    {
      "cell_type": "markdown",
      "metadata": {
        "id": "a6nvVE7enUnz",
        "colab_type": "text"
      },
      "source": [
        "### Logistic Approach"
      ]
    },
    {
      "cell_type": "markdown",
      "metadata": {
        "id": "nWmL_8s0BqV_",
        "colab_type": "text"
      },
      "source": [
        "**Feature Engineering**\n"
      ]
    },
    {
      "cell_type": "code",
      "metadata": {
        "id": "KxD9OmEMButf",
        "colab_type": "code",
        "colab": {}
      },
      "source": [
        "def status(home_score,away_score):\n",
        "  if home_score > away_score:\n",
        "      return 'Win'\n",
        "  elif home_score < away_score:\n",
        "      return 'Lose'\n",
        "  else:\n",
        "      return 'Draw'\n"
      ],
      "execution_count": null,
      "outputs": []
    },
    {
      "cell_type": "code",
      "metadata": {
        "id": "xZdM8FRfEGYd",
        "colab_type": "code",
        "colab": {
          "base_uri": "https://localhost:8080/",
          "height": 323
        },
        "outputId": "e26c96e0-8b7d-406b-c4da-e1a4a3418ade"
      },
      "source": [
        "data['home_status'] = independent_var.apply(lambda x : status(x['home_score'], x['away_score']), axis=1)\n",
        "data.drop('status', 1,inplace= True)"
      ],
      "execution_count": null,
      "outputs": [
        {
          "output_type": "error",
          "ename": "KeyError",
          "evalue": "ignored",
          "traceback": [
            "\u001b[0;31m---------------------------------------------------------------------------\u001b[0m",
            "\u001b[0;31mKeyError\u001b[0m                                  Traceback (most recent call last)",
            "\u001b[0;32m<ipython-input-346-40329be9a0fd>\u001b[0m in \u001b[0;36m<module>\u001b[0;34m()\u001b[0m\n\u001b[1;32m      1\u001b[0m \u001b[0mdata\u001b[0m\u001b[0;34m[\u001b[0m\u001b[0;34m'home_status'\u001b[0m\u001b[0;34m]\u001b[0m \u001b[0;34m=\u001b[0m \u001b[0mindependent_var\u001b[0m\u001b[0;34m.\u001b[0m\u001b[0mapply\u001b[0m\u001b[0;34m(\u001b[0m\u001b[0;32mlambda\u001b[0m \u001b[0mx\u001b[0m \u001b[0;34m:\u001b[0m \u001b[0mstatus\u001b[0m\u001b[0;34m(\u001b[0m\u001b[0mx\u001b[0m\u001b[0;34m[\u001b[0m\u001b[0;34m'home_score'\u001b[0m\u001b[0;34m]\u001b[0m\u001b[0;34m,\u001b[0m \u001b[0mx\u001b[0m\u001b[0;34m[\u001b[0m\u001b[0;34m'away_score'\u001b[0m\u001b[0;34m]\u001b[0m\u001b[0;34m)\u001b[0m\u001b[0;34m,\u001b[0m \u001b[0maxis\u001b[0m\u001b[0;34m=\u001b[0m\u001b[0;36m1\u001b[0m\u001b[0;34m)\u001b[0m\u001b[0;34m\u001b[0m\u001b[0;34m\u001b[0m\u001b[0m\n\u001b[0;32m----> 2\u001b[0;31m \u001b[0mdata\u001b[0m\u001b[0;34m.\u001b[0m\u001b[0mdrop\u001b[0m\u001b[0;34m(\u001b[0m\u001b[0;34m'status'\u001b[0m\u001b[0;34m,\u001b[0m \u001b[0;36m1\u001b[0m\u001b[0;34m,\u001b[0m\u001b[0minplace\u001b[0m\u001b[0;34m=\u001b[0m \u001b[0;32mTrue\u001b[0m\u001b[0;34m)\u001b[0m\u001b[0;34m\u001b[0m\u001b[0;34m\u001b[0m\u001b[0m\n\u001b[0m",
            "\u001b[0;32m/usr/local/lib/python3.6/dist-packages/pandas/core/frame.py\u001b[0m in \u001b[0;36mdrop\u001b[0;34m(self, labels, axis, index, columns, level, inplace, errors)\u001b[0m\n\u001b[1;32m   3995\u001b[0m             \u001b[0mlevel\u001b[0m\u001b[0;34m=\u001b[0m\u001b[0mlevel\u001b[0m\u001b[0;34m,\u001b[0m\u001b[0;34m\u001b[0m\u001b[0;34m\u001b[0m\u001b[0m\n\u001b[1;32m   3996\u001b[0m             \u001b[0minplace\u001b[0m\u001b[0;34m=\u001b[0m\u001b[0minplace\u001b[0m\u001b[0;34m,\u001b[0m\u001b[0;34m\u001b[0m\u001b[0;34m\u001b[0m\u001b[0m\n\u001b[0;32m-> 3997\u001b[0;31m             \u001b[0merrors\u001b[0m\u001b[0;34m=\u001b[0m\u001b[0merrors\u001b[0m\u001b[0;34m,\u001b[0m\u001b[0;34m\u001b[0m\u001b[0;34m\u001b[0m\u001b[0m\n\u001b[0m\u001b[1;32m   3998\u001b[0m         )\n\u001b[1;32m   3999\u001b[0m \u001b[0;34m\u001b[0m\u001b[0m\n",
            "\u001b[0;32m/usr/local/lib/python3.6/dist-packages/pandas/core/generic.py\u001b[0m in \u001b[0;36mdrop\u001b[0;34m(self, labels, axis, index, columns, level, inplace, errors)\u001b[0m\n\u001b[1;32m   3934\u001b[0m         \u001b[0;32mfor\u001b[0m \u001b[0maxis\u001b[0m\u001b[0;34m,\u001b[0m \u001b[0mlabels\u001b[0m \u001b[0;32min\u001b[0m \u001b[0maxes\u001b[0m\u001b[0;34m.\u001b[0m\u001b[0mitems\u001b[0m\u001b[0;34m(\u001b[0m\u001b[0;34m)\u001b[0m\u001b[0;34m:\u001b[0m\u001b[0;34m\u001b[0m\u001b[0;34m\u001b[0m\u001b[0m\n\u001b[1;32m   3935\u001b[0m             \u001b[0;32mif\u001b[0m \u001b[0mlabels\u001b[0m \u001b[0;32mis\u001b[0m \u001b[0;32mnot\u001b[0m \u001b[0;32mNone\u001b[0m\u001b[0;34m:\u001b[0m\u001b[0;34m\u001b[0m\u001b[0;34m\u001b[0m\u001b[0m\n\u001b[0;32m-> 3936\u001b[0;31m                 \u001b[0mobj\u001b[0m \u001b[0;34m=\u001b[0m \u001b[0mobj\u001b[0m\u001b[0;34m.\u001b[0m\u001b[0m_drop_axis\u001b[0m\u001b[0;34m(\u001b[0m\u001b[0mlabels\u001b[0m\u001b[0;34m,\u001b[0m \u001b[0maxis\u001b[0m\u001b[0;34m,\u001b[0m \u001b[0mlevel\u001b[0m\u001b[0;34m=\u001b[0m\u001b[0mlevel\u001b[0m\u001b[0;34m,\u001b[0m \u001b[0merrors\u001b[0m\u001b[0;34m=\u001b[0m\u001b[0merrors\u001b[0m\u001b[0;34m)\u001b[0m\u001b[0;34m\u001b[0m\u001b[0;34m\u001b[0m\u001b[0m\n\u001b[0m\u001b[1;32m   3937\u001b[0m \u001b[0;34m\u001b[0m\u001b[0m\n\u001b[1;32m   3938\u001b[0m         \u001b[0;32mif\u001b[0m \u001b[0minplace\u001b[0m\u001b[0;34m:\u001b[0m\u001b[0;34m\u001b[0m\u001b[0;34m\u001b[0m\u001b[0m\n",
            "\u001b[0;32m/usr/local/lib/python3.6/dist-packages/pandas/core/generic.py\u001b[0m in \u001b[0;36m_drop_axis\u001b[0;34m(self, labels, axis, level, errors)\u001b[0m\n\u001b[1;32m   3968\u001b[0m                 \u001b[0mnew_axis\u001b[0m \u001b[0;34m=\u001b[0m \u001b[0maxis\u001b[0m\u001b[0;34m.\u001b[0m\u001b[0mdrop\u001b[0m\u001b[0;34m(\u001b[0m\u001b[0mlabels\u001b[0m\u001b[0;34m,\u001b[0m \u001b[0mlevel\u001b[0m\u001b[0;34m=\u001b[0m\u001b[0mlevel\u001b[0m\u001b[0;34m,\u001b[0m \u001b[0merrors\u001b[0m\u001b[0;34m=\u001b[0m\u001b[0merrors\u001b[0m\u001b[0;34m)\u001b[0m\u001b[0;34m\u001b[0m\u001b[0;34m\u001b[0m\u001b[0m\n\u001b[1;32m   3969\u001b[0m             \u001b[0;32melse\u001b[0m\u001b[0;34m:\u001b[0m\u001b[0;34m\u001b[0m\u001b[0;34m\u001b[0m\u001b[0m\n\u001b[0;32m-> 3970\u001b[0;31m                 \u001b[0mnew_axis\u001b[0m \u001b[0;34m=\u001b[0m \u001b[0maxis\u001b[0m\u001b[0;34m.\u001b[0m\u001b[0mdrop\u001b[0m\u001b[0;34m(\u001b[0m\u001b[0mlabels\u001b[0m\u001b[0;34m,\u001b[0m \u001b[0merrors\u001b[0m\u001b[0;34m=\u001b[0m\u001b[0merrors\u001b[0m\u001b[0;34m)\u001b[0m\u001b[0;34m\u001b[0m\u001b[0;34m\u001b[0m\u001b[0m\n\u001b[0m\u001b[1;32m   3971\u001b[0m             \u001b[0mresult\u001b[0m \u001b[0;34m=\u001b[0m \u001b[0mself\u001b[0m\u001b[0;34m.\u001b[0m\u001b[0mreindex\u001b[0m\u001b[0;34m(\u001b[0m\u001b[0;34m**\u001b[0m\u001b[0;34m{\u001b[0m\u001b[0maxis_name\u001b[0m\u001b[0;34m:\u001b[0m \u001b[0mnew_axis\u001b[0m\u001b[0;34m}\u001b[0m\u001b[0;34m)\u001b[0m\u001b[0;34m\u001b[0m\u001b[0;34m\u001b[0m\u001b[0m\n\u001b[1;32m   3972\u001b[0m \u001b[0;34m\u001b[0m\u001b[0m\n",
            "\u001b[0;32m/usr/local/lib/python3.6/dist-packages/pandas/core/indexes/base.py\u001b[0m in \u001b[0;36mdrop\u001b[0;34m(self, labels, errors)\u001b[0m\n\u001b[1;32m   5015\u001b[0m         \u001b[0;32mif\u001b[0m \u001b[0mmask\u001b[0m\u001b[0;34m.\u001b[0m\u001b[0many\u001b[0m\u001b[0;34m(\u001b[0m\u001b[0;34m)\u001b[0m\u001b[0;34m:\u001b[0m\u001b[0;34m\u001b[0m\u001b[0;34m\u001b[0m\u001b[0m\n\u001b[1;32m   5016\u001b[0m             \u001b[0;32mif\u001b[0m \u001b[0merrors\u001b[0m \u001b[0;34m!=\u001b[0m \u001b[0;34m\"ignore\"\u001b[0m\u001b[0;34m:\u001b[0m\u001b[0;34m\u001b[0m\u001b[0;34m\u001b[0m\u001b[0m\n\u001b[0;32m-> 5017\u001b[0;31m                 \u001b[0;32mraise\u001b[0m \u001b[0mKeyError\u001b[0m\u001b[0;34m(\u001b[0m\u001b[0;34mf\"{labels[mask]} not found in axis\"\u001b[0m\u001b[0;34m)\u001b[0m\u001b[0;34m\u001b[0m\u001b[0;34m\u001b[0m\u001b[0m\n\u001b[0m\u001b[1;32m   5018\u001b[0m             \u001b[0mindexer\u001b[0m \u001b[0;34m=\u001b[0m \u001b[0mindexer\u001b[0m\u001b[0;34m[\u001b[0m\u001b[0;34m~\u001b[0m\u001b[0mmask\u001b[0m\u001b[0;34m]\u001b[0m\u001b[0;34m\u001b[0m\u001b[0;34m\u001b[0m\u001b[0m\n\u001b[1;32m   5019\u001b[0m         \u001b[0;32mreturn\u001b[0m \u001b[0mself\u001b[0m\u001b[0;34m.\u001b[0m\u001b[0mdelete\u001b[0m\u001b[0;34m(\u001b[0m\u001b[0mindexer\u001b[0m\u001b[0;34m)\u001b[0m\u001b[0;34m\u001b[0m\u001b[0;34m\u001b[0m\u001b[0m\n",
            "\u001b[0;31mKeyError\u001b[0m: \"['status'] not found in axis\""
          ]
        }
      ]
    },
    {
      "cell_type": "code",
      "metadata": {
        "id": "AFx0AI8uJ2Ti",
        "colab_type": "code",
        "colab": {
          "base_uri": "https://localhost:8080/",
          "height": 289
        },
        "outputId": "db256218-2db4-42c0-f1ba-f2352e89c248"
      },
      "source": [
        "data.head()"
      ],
      "execution_count": null,
      "outputs": [
        {
          "output_type": "execute_result",
          "data": {
            "text/html": [
              "<div>\n",
              "<style scoped>\n",
              "    .dataframe tbody tr th:only-of-type {\n",
              "        vertical-align: middle;\n",
              "    }\n",
              "\n",
              "    .dataframe tbody tr th {\n",
              "        vertical-align: top;\n",
              "    }\n",
              "\n",
              "    .dataframe thead th {\n",
              "        text-align: right;\n",
              "    }\n",
              "</style>\n",
              "<table border=\"1\" class=\"dataframe\">\n",
              "  <thead>\n",
              "    <tr style=\"text-align: right;\">\n",
              "      <th></th>\n",
              "      <th>rank</th>\n",
              "      <th>country_full</th>\n",
              "      <th>previous_points</th>\n",
              "      <th>rank_change</th>\n",
              "      <th>date</th>\n",
              "      <th>home_team</th>\n",
              "      <th>away_team</th>\n",
              "      <th>home_score</th>\n",
              "      <th>away_score</th>\n",
              "      <th>tournament</th>\n",
              "      <th>neutral</th>\n",
              "      <th>home_status</th>\n",
              "    </tr>\n",
              "  </thead>\n",
              "  <tbody>\n",
              "    <tr>\n",
              "      <th>0</th>\n",
              "      <td>8</td>\n",
              "      <td>Brazil</td>\n",
              "      <td>55</td>\n",
              "      <td>-5</td>\n",
              "      <td>1993-08-08</td>\n",
              "      <td>Brazil</td>\n",
              "      <td>Mexico</td>\n",
              "      <td>1</td>\n",
              "      <td>1</td>\n",
              "      <td>Friendly</td>\n",
              "      <td>False</td>\n",
              "      <td>Draw</td>\n",
              "    </tr>\n",
              "    <tr>\n",
              "      <th>1</th>\n",
              "      <td>50</td>\n",
              "      <td>Zimbabwe</td>\n",
              "      <td>27</td>\n",
              "      <td>4</td>\n",
              "      <td>1993-08-08</td>\n",
              "      <td>Zimbabwe</td>\n",
              "      <td>Eswatini</td>\n",
              "      <td>2</td>\n",
              "      <td>0</td>\n",
              "      <td>Friendly</td>\n",
              "      <td>False</td>\n",
              "      <td>Win</td>\n",
              "    </tr>\n",
              "    <tr>\n",
              "      <th>2</th>\n",
              "      <td>65</td>\n",
              "      <td>Guinea</td>\n",
              "      <td>23</td>\n",
              "      <td>-2</td>\n",
              "      <td>1993-08-08</td>\n",
              "      <td>Guinea</td>\n",
              "      <td>Sierra Leone</td>\n",
              "      <td>1</td>\n",
              "      <td>0</td>\n",
              "      <td>Friendly</td>\n",
              "      <td>False</td>\n",
              "      <td>Win</td>\n",
              "    </tr>\n",
              "    <tr>\n",
              "      <th>3</th>\n",
              "      <td>67</td>\n",
              "      <td>Paraguay</td>\n",
              "      <td>22</td>\n",
              "      <td>1</td>\n",
              "      <td>1993-08-08</td>\n",
              "      <td>Paraguay</td>\n",
              "      <td>Argentina</td>\n",
              "      <td>1</td>\n",
              "      <td>3</td>\n",
              "      <td>FIFA World Cup qualification</td>\n",
              "      <td>False</td>\n",
              "      <td>Lose</td>\n",
              "    </tr>\n",
              "    <tr>\n",
              "      <th>4</th>\n",
              "      <td>44</td>\n",
              "      <td>Saudi Arabia</td>\n",
              "      <td>34</td>\n",
              "      <td>0</td>\n",
              "      <td>1993-09-23</td>\n",
              "      <td>Saudi Arabia</td>\n",
              "      <td>Costa Rica</td>\n",
              "      <td>1</td>\n",
              "      <td>2</td>\n",
              "      <td>Friendly</td>\n",
              "      <td>False</td>\n",
              "      <td>Lose</td>\n",
              "    </tr>\n",
              "  </tbody>\n",
              "</table>\n",
              "</div>"
            ],
            "text/plain": [
              "   rank  country_full  ...  neutral  home_status\n",
              "0     8        Brazil  ...    False         Draw\n",
              "1    50      Zimbabwe  ...    False          Win\n",
              "2    65        Guinea  ...    False          Win\n",
              "3    67      Paraguay  ...    False         Lose\n",
              "4    44  Saudi Arabia  ...    False         Lose\n",
              "\n",
              "[5 rows x 12 columns]"
            ]
          },
          "metadata": {
            "tags": []
          },
          "execution_count": 347
        }
      ]
    },
    {
      "cell_type": "code",
      "metadata": {
        "id": "-9nafRk4J6Ve",
        "colab_type": "code",
        "colab": {}
      },
      "source": [
        "# Variables to Use\n",
        "ind_var = data[['rank','home_score','away_score','tournament','home_status']]"
      ],
      "execution_count": null,
      "outputs": []
    },
    {
      "cell_type": "code",
      "metadata": {
        "id": "MmjM8MFZKM8T",
        "colab_type": "code",
        "colab": {
          "base_uri": "https://localhost:8080/",
          "height": 292
        },
        "outputId": "b8685a47-e0d9-41f5-f99a-7ebc6154fd69"
      },
      "source": [
        "tour = pd.get_dummies(ind_var['tournament'], drop_first= True)\n",
        "tour.head()"
      ],
      "execution_count": null,
      "outputs": [
        {
          "output_type": "execute_result",
          "data": {
            "text/html": [
              "<div>\n",
              "<style scoped>\n",
              "    .dataframe tbody tr th:only-of-type {\n",
              "        vertical-align: middle;\n",
              "    }\n",
              "\n",
              "    .dataframe tbody tr th {\n",
              "        vertical-align: top;\n",
              "    }\n",
              "\n",
              "    .dataframe thead th {\n",
              "        text-align: right;\n",
              "    }\n",
              "</style>\n",
              "<table border=\"1\" class=\"dataframe\">\n",
              "  <thead>\n",
              "    <tr style=\"text-align: right;\">\n",
              "      <th></th>\n",
              "      <th>AFC Asian Cup qualification</th>\n",
              "      <th>AFC Challenge Cup qualification</th>\n",
              "      <th>AFF Championship</th>\n",
              "      <th>African Cup of Nations qualification</th>\n",
              "      <th>CECAFA Cup</th>\n",
              "      <th>CFU Caribbean Cup</th>\n",
              "      <th>CONIFA World Football Cup</th>\n",
              "      <th>Confederations Cup</th>\n",
              "      <th>Copa América</th>\n",
              "      <th>Copa del Pacífico</th>\n",
              "      <th>Cyprus International Tournament</th>\n",
              "      <th>EAFF Championship</th>\n",
              "      <th>FIFA World Cup qualification</th>\n",
              "      <th>Friendly</th>\n",
              "      <th>Gold Cup qualification</th>\n",
              "      <th>Gulf Cup</th>\n",
              "      <th>Intercontinental Cup</th>\n",
              "      <th>King's Cup</th>\n",
              "      <th>Malta International Tournament</th>\n",
              "      <th>Oceania Nations Cup</th>\n",
              "      <th>SAFF Cup</th>\n",
              "      <th>UAFA Cup</th>\n",
              "      <th>UEFA Euro qualification</th>\n",
              "      <th>UNCAF Cup</th>\n",
              "      <th>United Arab Emirates Friendship Tournament</th>\n",
              "      <th>Viva World Cup</th>\n",
              "      <th>Windward Islands Tournament</th>\n",
              "    </tr>\n",
              "  </thead>\n",
              "  <tbody>\n",
              "    <tr>\n",
              "      <th>0</th>\n",
              "      <td>0</td>\n",
              "      <td>0</td>\n",
              "      <td>0</td>\n",
              "      <td>0</td>\n",
              "      <td>0</td>\n",
              "      <td>0</td>\n",
              "      <td>0</td>\n",
              "      <td>0</td>\n",
              "      <td>0</td>\n",
              "      <td>0</td>\n",
              "      <td>0</td>\n",
              "      <td>0</td>\n",
              "      <td>0</td>\n",
              "      <td>1</td>\n",
              "      <td>0</td>\n",
              "      <td>0</td>\n",
              "      <td>0</td>\n",
              "      <td>0</td>\n",
              "      <td>0</td>\n",
              "      <td>0</td>\n",
              "      <td>0</td>\n",
              "      <td>0</td>\n",
              "      <td>0</td>\n",
              "      <td>0</td>\n",
              "      <td>0</td>\n",
              "      <td>0</td>\n",
              "      <td>0</td>\n",
              "    </tr>\n",
              "    <tr>\n",
              "      <th>1</th>\n",
              "      <td>0</td>\n",
              "      <td>0</td>\n",
              "      <td>0</td>\n",
              "      <td>0</td>\n",
              "      <td>0</td>\n",
              "      <td>0</td>\n",
              "      <td>0</td>\n",
              "      <td>0</td>\n",
              "      <td>0</td>\n",
              "      <td>0</td>\n",
              "      <td>0</td>\n",
              "      <td>0</td>\n",
              "      <td>0</td>\n",
              "      <td>1</td>\n",
              "      <td>0</td>\n",
              "      <td>0</td>\n",
              "      <td>0</td>\n",
              "      <td>0</td>\n",
              "      <td>0</td>\n",
              "      <td>0</td>\n",
              "      <td>0</td>\n",
              "      <td>0</td>\n",
              "      <td>0</td>\n",
              "      <td>0</td>\n",
              "      <td>0</td>\n",
              "      <td>0</td>\n",
              "      <td>0</td>\n",
              "    </tr>\n",
              "    <tr>\n",
              "      <th>2</th>\n",
              "      <td>0</td>\n",
              "      <td>0</td>\n",
              "      <td>0</td>\n",
              "      <td>0</td>\n",
              "      <td>0</td>\n",
              "      <td>0</td>\n",
              "      <td>0</td>\n",
              "      <td>0</td>\n",
              "      <td>0</td>\n",
              "      <td>0</td>\n",
              "      <td>0</td>\n",
              "      <td>0</td>\n",
              "      <td>0</td>\n",
              "      <td>1</td>\n",
              "      <td>0</td>\n",
              "      <td>0</td>\n",
              "      <td>0</td>\n",
              "      <td>0</td>\n",
              "      <td>0</td>\n",
              "      <td>0</td>\n",
              "      <td>0</td>\n",
              "      <td>0</td>\n",
              "      <td>0</td>\n",
              "      <td>0</td>\n",
              "      <td>0</td>\n",
              "      <td>0</td>\n",
              "      <td>0</td>\n",
              "    </tr>\n",
              "    <tr>\n",
              "      <th>3</th>\n",
              "      <td>0</td>\n",
              "      <td>0</td>\n",
              "      <td>0</td>\n",
              "      <td>0</td>\n",
              "      <td>0</td>\n",
              "      <td>0</td>\n",
              "      <td>0</td>\n",
              "      <td>0</td>\n",
              "      <td>0</td>\n",
              "      <td>0</td>\n",
              "      <td>0</td>\n",
              "      <td>0</td>\n",
              "      <td>1</td>\n",
              "      <td>0</td>\n",
              "      <td>0</td>\n",
              "      <td>0</td>\n",
              "      <td>0</td>\n",
              "      <td>0</td>\n",
              "      <td>0</td>\n",
              "      <td>0</td>\n",
              "      <td>0</td>\n",
              "      <td>0</td>\n",
              "      <td>0</td>\n",
              "      <td>0</td>\n",
              "      <td>0</td>\n",
              "      <td>0</td>\n",
              "      <td>0</td>\n",
              "    </tr>\n",
              "    <tr>\n",
              "      <th>4</th>\n",
              "      <td>0</td>\n",
              "      <td>0</td>\n",
              "      <td>0</td>\n",
              "      <td>0</td>\n",
              "      <td>0</td>\n",
              "      <td>0</td>\n",
              "      <td>0</td>\n",
              "      <td>0</td>\n",
              "      <td>0</td>\n",
              "      <td>0</td>\n",
              "      <td>0</td>\n",
              "      <td>0</td>\n",
              "      <td>0</td>\n",
              "      <td>1</td>\n",
              "      <td>0</td>\n",
              "      <td>0</td>\n",
              "      <td>0</td>\n",
              "      <td>0</td>\n",
              "      <td>0</td>\n",
              "      <td>0</td>\n",
              "      <td>0</td>\n",
              "      <td>0</td>\n",
              "      <td>0</td>\n",
              "      <td>0</td>\n",
              "      <td>0</td>\n",
              "      <td>0</td>\n",
              "      <td>0</td>\n",
              "    </tr>\n",
              "  </tbody>\n",
              "</table>\n",
              "</div>"
            ],
            "text/plain": [
              "   AFC Asian Cup qualification  ...  Windward Islands Tournament\n",
              "0                            0  ...                            0\n",
              "1                            0  ...                            0\n",
              "2                            0  ...                            0\n",
              "3                            0  ...                            0\n",
              "4                            0  ...                            0\n",
              "\n",
              "[5 rows x 27 columns]"
            ]
          },
          "metadata": {
            "tags": []
          },
          "execution_count": 357
        }
      ]
    },
    {
      "cell_type": "code",
      "metadata": {
        "id": "hF8g5xyEKYii",
        "colab_type": "code",
        "colab": {
          "base_uri": "https://localhost:8080/",
          "height": 323
        },
        "outputId": "5e593161-0471-414d-bb5f-ac15c1108b6c"
      },
      "source": [
        "# Label Encoded the status\n",
        "\n",
        "from sklearn import preprocessing \n",
        "label_encoder = preprocessing.LabelEncoder() \n",
        "\n",
        "ind_var['home_status'] = label_encoder.fit_transform(ind_var['home_status'])\n",
        "ind_var['home_status']"
      ],
      "execution_count": null,
      "outputs": [
        {
          "output_type": "stream",
          "text": [
            "/usr/local/lib/python3.6/dist-packages/ipykernel_launcher.py:6: SettingWithCopyWarning: \n",
            "A value is trying to be set on a copy of a slice from a DataFrame.\n",
            "Try using .loc[row_indexer,col_indexer] = value instead\n",
            "\n",
            "See the caveats in the documentation: https://pandas.pydata.org/pandas-docs/stable/user_guide/indexing.html#returning-a-view-versus-a-copy\n",
            "  \n"
          ],
          "name": "stderr"
        },
        {
          "output_type": "execute_result",
          "data": {
            "text/plain": [
              "0      0\n",
              "1      2\n",
              "2      2\n",
              "3      1\n",
              "4      1\n",
              "      ..\n",
              "698    2\n",
              "699    1\n",
              "700    2\n",
              "701    0\n",
              "702    1\n",
              "Name: home_status, Length: 703, dtype: int64"
            ]
          },
          "metadata": {
            "tags": []
          },
          "execution_count": 358
        }
      ]
    },
    {
      "cell_type": "code",
      "metadata": {
        "id": "pWBDDZq4wMH2",
        "colab_type": "code",
        "colab": {
          "base_uri": "https://localhost:8080/",
          "height": 221
        },
        "outputId": "8fd5b846-c90c-4bbf-d208-51b87b7da7cd"
      },
      "source": [
        "#Feautures and Labels\n",
        "\n",
        "X = ind_var.drop(['home_status','away_score'],1).values\n",
        "y = ind_var['home_status'].values\n",
        "\n",
        "#Split the Data to Train and Test\n",
        "X_train,X_test,y_train,y_test = train_test_split(X,y, test_size=0.2)\n",
        "\n",
        "#Train the model\n",
        "from sklearn.linear_model import LogisticRegression\n",
        "LogReg = LogisticRegression()\n",
        "LogReg.fit(X_train,y_train)\n",
        "\n",
        "#Make a prediction\n",
        "y_pred = LogReg.predict(X_test)\n",
        "#Evaluate the model\n",
        "from sklearn.metrics import confusion_matrix,accuracy_score\n",
        "\n",
        "confusion_matrix = confusion_matrix(y_test,y_pred)\n",
        "print(confusion_matrix)\n",
        "accuracy = accuracy_score(y_test,y_pred)\n",
        "print(accuracy)"
      ],
      "execution_count": null,
      "outputs": [
        {
          "output_type": "stream",
          "text": [
            "[[15 13  8]\n",
            " [16 21  2]\n",
            " [ 9  5 52]]\n",
            "0.624113475177305\n"
          ],
          "name": "stdout"
        },
        {
          "output_type": "stream",
          "text": [
            "/usr/local/lib/python3.6/dist-packages/sklearn/linear_model/_logistic.py:940: ConvergenceWarning: lbfgs failed to converge (status=1):\n",
            "STOP: TOTAL NO. of ITERATIONS REACHED LIMIT.\n",
            "\n",
            "Increase the number of iterations (max_iter) or scale the data as shown in:\n",
            "    https://scikit-learn.org/stable/modules/preprocessing.html\n",
            "Please also refer to the documentation for alternative solver options:\n",
            "    https://scikit-learn.org/stable/modules/linear_model.html#logistic-regression\n",
            "  extra_warning_msg=_LOGISTIC_SOLVER_CONVERGENCE_MSG)\n"
          ],
          "name": "stderr"
        }
      ]
    },
    {
      "cell_type": "markdown",
      "metadata": {
        "id": "CJI43jrm1D-1",
        "colab_type": "text"
      },
      "source": [
        "**Optimize the Logistic Regression using HyperParameter Tuning**"
      ]
    },
    {
      "cell_type": "code",
      "metadata": {
        "id": "Z2Mt2NyEzLoX",
        "colab_type": "code",
        "colab": {}
      },
      "source": [
        "X = ind_var.drop(['home_status','away_score'],1).values\n",
        "y = ind_var['home_status'].values\n",
        "\n",
        "\n",
        "#Split the Data to Train and Test\n",
        "X_train,X_test,y_train,y_test = train_test_split(X,y, test_size=0.2)\n",
        "\n",
        "# Scaling the Data\n",
        "from sklearn.preprocessing import StandardScaler\n",
        "feature_scaler = StandardScaler()\n",
        "X_train = feature_scaler.fit_transform(X_train)\n",
        "X_test = feature_scaler.transform(X_test)"
      ],
      "execution_count": null,
      "outputs": []
    },
    {
      "cell_type": "code",
      "metadata": {
        "id": "tPQXT-8_1ad7",
        "colab_type": "code",
        "colab": {
          "base_uri": "https://localhost:8080/",
          "height": 51
        },
        "outputId": "7ed7fbb1-c222-4788-a639-0866501aaaa6"
      },
      "source": [
        "#Train the Data and Cross Validation\n",
        "LogReg = LogisticRegression()\n",
        "\n",
        "from sklearn.model_selection import cross_val_score\n",
        "all_accuracies = cross_val_score(estimator=LogReg, X=X_train, y=y_train, cv=5)\n",
        "\n",
        "print(all_accuracies)\n",
        "print(all_accuracies.mean())"
      ],
      "execution_count": null,
      "outputs": [
        {
          "output_type": "stream",
          "text": [
            "[0.60176991 0.67256637 0.65178571 0.57142857 0.60714286]\n",
            "0.6209386852085967\n"
          ],
          "name": "stdout"
        }
      ]
    },
    {
      "cell_type": "code",
      "metadata": {
        "id": "T26qVhX51_Xr",
        "colab_type": "code",
        "colab": {}
      },
      "source": [
        "# Hyperparameters\n",
        "\n",
        "penalty = ['l1','l2']\n",
        "C = np.logspace(0,8,20)\n",
        "\n",
        "hyperparameters  = dict(C=C, penalty = penalty)\n"
      ],
      "execution_count": null,
      "outputs": []
    },
    {
      "cell_type": "code",
      "metadata": {
        "id": "MIo62szv2cZ2",
        "colab_type": "code",
        "colab": {}
      },
      "source": [
        "#Use the Grid Search for the best combination of Hyperparameters\n",
        "#from sklearn.model_selection import GridSearchCV\n",
        "#clf = GridSearchCV(LogReg, hyperparameters, cv =10, verbose=0)"
      ],
      "execution_count": null,
      "outputs": []
    },
    {
      "cell_type": "code",
      "metadata": {
        "id": "JHhXBinHSL_H",
        "colab_type": "code",
        "colab": {}
      },
      "source": [
        "from sklearn.model_selection import RandomizedSearchCV\n",
        "\n",
        "clf = RandomizedSearchCV(LogReg, hyperparameters, random_state=1, n_iter=100, cv=5, verbose=0, n_jobs=-1)\n"
      ],
      "execution_count": null,
      "outputs": []
    },
    {
      "cell_type": "code",
      "metadata": {
        "id": "NTuNDw5e3ErA",
        "colab_type": "code",
        "colab": {
          "base_uri": "https://localhost:8080/",
          "height": 71
        },
        "outputId": "b3904246-19a4-4bd0-ecd1-9b91280d3428"
      },
      "source": [
        "# Best Model\n",
        "best_model = clf.fit(X_train,y_train)"
      ],
      "execution_count": null,
      "outputs": [
        {
          "output_type": "stream",
          "text": [
            "/usr/local/lib/python3.6/dist-packages/sklearn/model_selection/_search.py:281: UserWarning: The total space of parameters 40 is smaller than n_iter=100. Running 40 iterations. For exhaustive searches, use GridSearchCV.\n",
            "  % (grid_size, self.n_iter, grid_size), UserWarning)\n"
          ],
          "name": "stderr"
        }
      ]
    },
    {
      "cell_type": "code",
      "metadata": {
        "id": "CfgxzeN53Ejb",
        "colab_type": "code",
        "colab": {
          "base_uri": "https://localhost:8080/",
          "height": 51
        },
        "outputId": "6b018b7f-c825-435a-f29a-5c423fb121ca"
      },
      "source": [
        "# Viewing best hyperparameters\n",
        "print('Best Penalty:', best_model.best_estimator_.get_params()['penalty'])\n",
        "print('Best C:', best_model.best_estimator_.get_params()['C'])"
      ],
      "execution_count": null,
      "outputs": [
        {
          "output_type": "stream",
          "text": [
            "Best Penalty: l2\n",
            "Best C: 2.636650898730358\n"
          ],
          "name": "stdout"
        }
      ]
    },
    {
      "cell_type": "code",
      "metadata": {
        "id": "Q-aXnrsW3ti8",
        "colab_type": "code",
        "colab": {
          "base_uri": "https://localhost:8080/",
          "height": 34
        },
        "outputId": "614a5e74-0348-4045-8e3c-0c5ff2739489"
      },
      "source": [
        "# The best accuracy achieved\n",
        "best_accuracy = best_model.best_score_\n",
        "best_accuracy"
      ],
      "execution_count": null,
      "outputs": [
        {
          "output_type": "execute_result",
          "data": {
            "text/plain": [
              "0.6227085967130216"
            ]
          },
          "metadata": {
            "tags": []
          },
          "execution_count": 404
        }
      ]
    },
    {
      "cell_type": "markdown",
      "metadata": {
        "id": "nTp1gvfX4FIr",
        "colab_type": "text"
      },
      "source": [
        "Accuracy has improved from 62.09% to 62.27% by using HyperParameter Tuning\n",
        "\n",
        "The Accuracy however is doesn't increase significantly\n"
      ]
    },
    {
      "cell_type": "markdown",
      "metadata": {
        "id": "lQ2G4ZPDVOXE",
        "colab_type": "text"
      },
      "source": [
        "## 8. Challenging the solution"
      ]
    },
    {
      "cell_type": "markdown",
      "metadata": {
        "id": "R8RE34Sp493Q",
        "colab_type": "text"
      },
      "source": [
        "In the Logistic Approach the solution the Accuracy hasn't improved from Hyperparemeter Tuning\n",
        "\n",
        "Therefore I reccommend another Dataset with more feautures to be used for  Training our model\n",
        "Or selection of more predictors from the current dataset to see if the accuracy improves\n",
        "\n",
        "Another Classifier Algorithm could be used to compare the level of accuracy"
      ]
    },
    {
      "cell_type": "markdown",
      "metadata": {
        "id": "xrmHVMVsVS--",
        "colab_type": "text"
      },
      "source": [
        "## 9. Follow up questions"
      ]
    },
    {
      "cell_type": "markdown",
      "metadata": {
        "id": "pth2qSWhuBIy",
        "colab_type": "text"
      },
      "source": [
        "> At this point, we can refine our question or collect new data, all in an iterative process to get at the truth.\n",
        "\n"
      ]
    },
    {
      "cell_type": "markdown",
      "metadata": {
        "id": "HPQviDmNtta8",
        "colab_type": "text"
      },
      "source": [
        "### a). Did we have the right data?"
      ]
    },
    {
      "cell_type": "markdown",
      "metadata": {
        "id": "qjFHK1CKty7o",
        "colab_type": "text"
      },
      "source": [
        "### b). Do we need other data to answer our question?"
      ]
    },
    {
      "cell_type": "markdown",
      "metadata": {
        "id": "HSsicSdvt4Zs",
        "colab_type": "text"
      },
      "source": [
        "### c). Did we have the right question?"
      ]
    }
  ]
}